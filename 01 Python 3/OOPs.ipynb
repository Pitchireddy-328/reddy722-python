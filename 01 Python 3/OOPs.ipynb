{
 "cells": [
  {
   "cell_type": "code",
   "execution_count": null,
   "id": "3a4744d7",
   "metadata": {},
   "outputs": [],
   "source": []
  },
  {
   "cell_type": "markdown",
   "id": "bd267c37",
   "metadata": {},
   "source": [
    "# Class:\n",
    "          --> A class is like an object Constructor , or a \"BluePrint\" for creating Objects\n",
    "          --> To Create class we use CLASS keyword"
   ]
  },
  {
   "cell_type": "code",
   "execution_count": 1,
   "id": "9368318a",
   "metadata": {},
   "outputs": [
    {
     "name": "stdout",
     "output_type": "stream",
     "text": [
      "reddy  23  328\n"
     ]
    }
   ],
   "source": [
    "class stud():\n",
    "    name=None\n",
    "    age=None\n",
    "    roll=None\n",
    "    \n",
    "std1=stud()\n",
    "std1.name=\"reddy\"\n",
    "std1.age=23\n",
    "std1.roll=328\n",
    "print(std1.name,'',std1.age,'',std1.roll)"
   ]
  },
  {
   "cell_type": "code",
   "execution_count": 3,
   "id": "6d4f7fea",
   "metadata": {},
   "outputs": [
    {
     "name": "stdout",
     "output_type": "stream",
     "text": [
      "enter name:reddy\n",
      "enter age:23\n",
      "enter roll:328\n",
      "reddy  23  328\n"
     ]
    }
   ],
   "source": [
    "class stud():\n",
    "    def __init__(self):\n",
    "        self.name=input(\"enter name:\")\n",
    "        self.age=input(\"enter age:\")\n",
    "        self.roll=input(\"enter roll:\")\n",
    "    \n",
    "std1=stud()\n",
    "print(std1.name,'',std1.age,'',std1.roll)"
   ]
  },
  {
   "cell_type": "code",
   "execution_count": 5,
   "id": "3b311056",
   "metadata": {},
   "outputs": [
    {
     "name": "stdout",
     "output_type": "stream",
     "text": [
      "Frog lives on land\n",
      "Frog lives on water\n"
     ]
    }
   ],
   "source": [
    "class land:\n",
    "    def printing(self):\n",
    "        print(\"Frog lives on land\")\n",
    "        \n",
    "class water:\n",
    "    def display(self):\n",
    "        print(\"Frog lives on water\")\n",
    "        \n",
    "class frog(land,water):\n",
    "    pass\n",
    "\n",
    "f1=frog()\n",
    "f1.printing()\n",
    "f1.display()"
   ]
  },
  {
   "cell_type": "code",
   "execution_count": null,
   "id": "314447f4",
   "metadata": {},
   "outputs": [],
   "source": []
  },
  {
   "cell_type": "code",
   "execution_count": null,
   "id": "435285f9",
   "metadata": {},
   "outputs": [],
   "source": []
  },
  {
   "cell_type": "code",
   "execution_count": 8,
   "id": "f2bd4815",
   "metadata": {},
   "outputs": [
    {
     "name": "stdout",
     "output_type": "stream",
     "text": [
      "var inner is  123\n"
     ]
    },
    {
     "ename": "AttributeError",
     "evalue": "'data_hide' object has no attribute '__var'",
     "output_type": "error",
     "traceback": [
      "\u001b[1;31m---------------------------------------------------------------------------\u001b[0m",
      "\u001b[1;31mAttributeError\u001b[0m                            Traceback (most recent call last)",
      "\u001b[1;32m<ipython-input-8-9d604a7b57e9>\u001b[0m in \u001b[0;36m<module>\u001b[1;34m\u001b[0m\n\u001b[0;32m      7\u001b[0m \u001b[0mobj\u001b[0m\u001b[1;33m=\u001b[0m\u001b[0mdata_hide\u001b[0m\u001b[1;33m(\u001b[0m\u001b[1;33m)\u001b[0m\u001b[1;33m\u001b[0m\u001b[1;33m\u001b[0m\u001b[0m\n\u001b[0;32m      8\u001b[0m \u001b[0mobj\u001b[0m\u001b[1;33m.\u001b[0m\u001b[0mfun\u001b[0m\u001b[1;33m(\u001b[0m\u001b[1;33m)\u001b[0m\u001b[1;33m\u001b[0m\u001b[1;33m\u001b[0m\u001b[0m\n\u001b[1;32m----> 9\u001b[1;33m \u001b[0mprint\u001b[0m\u001b[1;33m(\u001b[0m\u001b[1;34m\"var outer is \"\u001b[0m\u001b[1;33m,\u001b[0m\u001b[0mobj\u001b[0m\u001b[1;33m.\u001b[0m\u001b[0m__var\u001b[0m\u001b[1;33m)\u001b[0m\u001b[1;33m\u001b[0m\u001b[1;33m\u001b[0m\u001b[0m\n\u001b[0m",
      "\u001b[1;31mAttributeError\u001b[0m: 'data_hide' object has no attribute '__var'"
     ]
    }
   ],
   "source": [
    "#data Hiding\n",
    "\n",
    "class data_hide():\n",
    "    __var=123\n",
    "    def fun(self):\n",
    "        print(\"var inner is \",self.__var)\n",
    "obj=data_hide()\n",
    "obj.fun()\n",
    "print(\"var outer is \",obj.__var)"
   ]
  },
  {
   "cell_type": "code",
   "execution_count": 9,
   "id": "d47e60c2",
   "metadata": {},
   "outputs": [
    {
     "name": "stdout",
     "output_type": "stream",
     "text": [
      "var inner is  123\n",
      "var outer is  123\n"
     ]
    }
   ],
   "source": [
    "#data encapulation\n",
    "\n",
    "class data_hide():\n",
    "    __var=123\n",
    "    def fun(self):\n",
    "        print(\"var inner is \",self.__var)\n",
    "obj=data_hide()\n",
    "obj.fun()\n",
    "print(\"var outer is \",obj._data_hide__var)"
   ]
  },
  {
   "cell_type": "code",
   "execution_count": 32,
   "id": "12a76014",
   "metadata": {},
   "outputs": [
    {
     "name": "stdout",
     "output_type": "stream",
     "text": [
      "I have 2\n",
      "I have 2\n",
      "I have 2\n"
     ]
    }
   ],
   "source": [
    "# Method over ridding\n",
    "\n",
    "class met_ove():\n",
    "    def fun(self):\n",
    "        print(\"I have 0\")\n",
    "    def fun(self,a=10):\n",
    "        print(\"I have 1\")\n",
    "    def fun(self,a=10,b=20):\n",
    "        print(\"I have 2\")\n",
    "        \n",
    "obj=met_ove()\n",
    "obj.fun(10,10)\n",
    "obj.fun(10)\n",
    "obj.fun()"
   ]
  },
  {
   "cell_type": "code",
   "execution_count": 3,
   "id": "c67b883c",
   "metadata": {},
   "outputs": [
    {
     "name": "stdout",
     "output_type": "stream",
     "text": [
      "I have 2\n"
     ]
    },
    {
     "ename": "TypeError",
     "evalue": "fun() missing 1 required positional argument: 'b'",
     "output_type": "error",
     "traceback": [
      "\u001b[1;31m---------------------------------------------------------------------------\u001b[0m",
      "\u001b[1;31mTypeError\u001b[0m                                 Traceback (most recent call last)",
      "\u001b[1;32m<ipython-input-3-a57d560ba8b1>\u001b[0m in \u001b[0;36m<module>\u001b[1;34m\u001b[0m\n\u001b[0;32m     11\u001b[0m \u001b[0mobj\u001b[0m\u001b[1;33m=\u001b[0m\u001b[0mmet_ove\u001b[0m\u001b[1;33m(\u001b[0m\u001b[1;33m)\u001b[0m\u001b[1;33m\u001b[0m\u001b[1;33m\u001b[0m\u001b[0m\n\u001b[0;32m     12\u001b[0m \u001b[0mobj\u001b[0m\u001b[1;33m.\u001b[0m\u001b[0mfun\u001b[0m\u001b[1;33m(\u001b[0m\u001b[1;36m10\u001b[0m\u001b[1;33m,\u001b[0m\u001b[1;36m10\u001b[0m\u001b[1;33m)\u001b[0m\u001b[1;33m\u001b[0m\u001b[1;33m\u001b[0m\u001b[0m\n\u001b[1;32m---> 13\u001b[1;33m \u001b[0mobj\u001b[0m\u001b[1;33m.\u001b[0m\u001b[0mfun\u001b[0m\u001b[1;33m(\u001b[0m\u001b[1;36m10\u001b[0m\u001b[1;33m)\u001b[0m\u001b[1;33m\u001b[0m\u001b[1;33m\u001b[0m\u001b[0m\n\u001b[0m\u001b[0;32m     14\u001b[0m \u001b[0mobj\u001b[0m\u001b[1;33m.\u001b[0m\u001b[0mfun\u001b[0m\u001b[1;33m(\u001b[0m\u001b[1;33m)\u001b[0m\u001b[1;33m\u001b[0m\u001b[1;33m\u001b[0m\u001b[0m\n",
      "\u001b[1;31mTypeError\u001b[0m: fun() missing 1 required positional argument: 'b'"
     ]
    }
   ],
   "source": [
    "# method over loading\n",
    "\n",
    "class met_ove():\n",
    "    def fun(self):\n",
    "        print(\"I have 0\")\n",
    "    def fun(self,a):\n",
    "        print(\"I have 1\")\n",
    "    def fun(self,a,b):\n",
    "        print(\"I have 2\")\n",
    "        \n",
    "obj=met_ove()\n",
    "obj.fun(10,10)\n",
    "obj.fun(10)\n",
    "obj.fun()"
   ]
  },
  {
   "cell_type": "code",
   "execution_count": 6,
   "id": "3b06916a",
   "metadata": {},
   "outputs": [
    {
     "name": "stdout",
     "output_type": "stream",
     "text": [
      "20\n",
      "9\n"
     ]
    }
   ],
   "source": [
    "# Polymorishm\n",
    "\n",
    "class poly1():\n",
    "    def su(self,x,y):\n",
    "        print(x*y)\n",
    "        \n",
    "class poly2():\n",
    "    def su(self,x,y):\n",
    "        print(x+y)\n",
    "obj1=poly1()\n",
    "obj2=poly2()\n",
    "\n",
    "obj1.su(5,4)\n",
    "obj2.su(5,4)"
   ]
  },
  {
   "cell_type": "code",
   "execution_count": 8,
   "id": "a670e7d3",
   "metadata": {},
   "outputs": [
    {
     "name": "stdout",
     "output_type": "stream",
     "text": [
      "22\n",
      "7\n",
      "60\n",
      "2\n",
      "successFully\n"
     ]
    }
   ],
   "source": [
    "# Inheritance\n",
    "\n",
    "class base1():\n",
    "    def su(self,a,b):\n",
    "        print(a+b)\n",
    "        \n",
    "class base2():\n",
    "    def sub(self,a,b):\n",
    "        print(a-b)\n",
    "        \n",
    "class base3():\n",
    "    def mu(self,a,b):\n",
    "        print(a*b)\n",
    "        \n",
    "class base4():\n",
    "    def div(self,a,b):\n",
    "        print(a//b)\n",
    "        \n",
    "class dev(base1,base2,base3,base4):\n",
    "    def mat(self):\n",
    "        print(\"successFully\")\n",
    "        \n",
    "m=dev()\n",
    "m.su(10,12)\n",
    "m.sub(12,5)\n",
    "m.mu(12,5)\n",
    "m.div(12,5)\n",
    "m.mat()"
   ]
  },
  {
   "cell_type": "code",
   "execution_count": 11,
   "id": "22d92dad",
   "metadata": {},
   "outputs": [
    {
     "name": "stdout",
     "output_type": "stream",
     "text": [
      "22\n",
      "7\n",
      "60\n",
      "2\n",
      "successFully\n"
     ]
    }
   ],
   "source": [
    "class base1():\n",
    "    def su(self,a,b):\n",
    "        return a+b\n",
    "        \n",
    "class base2(base1):\n",
    "    def sub(self,a,b):\n",
    "        return a-b\n",
    "        \n",
    "class base3(base2):\n",
    "    def mu(self,a,b):\n",
    "        print(a*b)\n",
    "        \n",
    "class base4(base3):\n",
    "    def div(self,a,b):\n",
    "        print(a//b)\n",
    "        \n",
    "class dev(base4):\n",
    "    def mat(self):\n",
    "        print(\"successFully\")\n",
    "        \n",
    "m=dev()\n",
    "\n",
    "x=m.su(10,12)\n",
    "print(x)\n",
    "\n",
    "y=m.sub(12,5)\n",
    "print(y)\n",
    "\n",
    "m.mu(12,5)\n",
    "m.div(12,5)\n",
    "m.mat()"
   ]
  },
  {
   "cell_type": "code",
   "execution_count": null,
   "id": "6bf7d6bf",
   "metadata": {},
   "outputs": [],
   "source": []
  },
  {
   "cell_type": "code",
   "execution_count": null,
   "id": "ca676be6",
   "metadata": {},
   "outputs": [],
   "source": []
  },
  {
   "cell_type": "code",
   "execution_count": null,
   "id": "06cf8900",
   "metadata": {},
   "outputs": [],
   "source": []
  }
 ],
 "metadata": {
  "kernelspec": {
   "display_name": "Python 3",
   "language": "python",
   "name": "python3"
  },
  "language_info": {
   "codemirror_mode": {
    "name": "ipython",
    "version": 3
   },
   "file_extension": ".py",
   "mimetype": "text/x-python",
   "name": "python",
   "nbconvert_exporter": "python",
   "pygments_lexer": "ipython3",
   "version": "3.8.8"
  }
 },
 "nbformat": 4,
 "nbformat_minor": 5
}
