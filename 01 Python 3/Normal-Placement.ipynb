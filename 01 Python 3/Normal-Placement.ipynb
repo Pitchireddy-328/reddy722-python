{
 "cells": [
  {
   "cell_type": "code",
   "execution_count": 1,
   "id": "7d3052c3",
   "metadata": {},
   "outputs": [
    {
     "name": "stdout",
     "output_type": "stream",
     "text": [
      "Enter a number: 9\n",
      "9 is not a prime number\n"
     ]
    }
   ],
   "source": [
    "#prime Numbers\n",
    "\n",
    "num = int(input(\"Enter a number: \"))  \n",
    "  \n",
    "if num > 1:  \n",
    "    for i in range(2,num):  \n",
    "        if (num % i) == 0:  \n",
    "            print(num,\"is not a prime number\")   \n",
    "            break  \n",
    "    else:  \n",
    "        print(num,\"is a prime number\")  \n",
    "         \n",
    "else:  \n",
    "    print(num,\"is not a prime number\")"
   ]
  },
  {
   "cell_type": "code",
   "execution_count": 2,
   "id": "71de9d6d",
   "metadata": {},
   "outputs": [
    {
     "name": "stdout",
     "output_type": "stream",
     "text": [
      "Enter a number: 23\n",
      "22 > 11.5 = True\n",
      "prime\n"
     ]
    }
   ],
   "source": [
    "# prime method 2\n",
    "\n",
    "num = int(input(\"Enter a number: \")) \n",
    "\n",
    "for i in range(2,num):\n",
    "    if(num%i==0):\n",
    "        break\n",
    "        \n",
    "print(i,'>',num/2,'=',i>num/2)\n",
    "\n",
    "if(i>num/2):\n",
    "    print(\"prime\")\n",
    "else:\n",
    "    print(\"Not prime\")"
   ]
  },
  {
   "cell_type": "code",
   "execution_count": 6,
   "id": "267bd90b",
   "metadata": {},
   "outputs": [
    {
     "name": "stdout",
     "output_type": "stream",
     "text": [
      "enter N:50\n",
      "2 3 5 7 11 13 17 19 23 29 31 37 41 43 47 "
     ]
    }
   ],
   "source": [
    "#prime number Finding\n",
    "\n",
    "n=int(input(\"enter N:\"))\n",
    "for i in range(2,n+1):\n",
    "    if(i>1):\n",
    "        for j in range(2,i):\n",
    "            if(i%j==0):\n",
    "                break;\n",
    "        else:\n",
    "            print(i,end=\" \")"
   ]
  },
  {
   "cell_type": "code",
   "execution_count": 3,
   "id": "da84019f",
   "metadata": {},
   "outputs": [
    {
     "name": "stdout",
     "output_type": "stream",
     "text": [
      "enter N:50\n",
      "2 3 5 7 11 13 17 19 23 29 31 37 41 43 47 "
     ]
    }
   ],
   "source": [
    "#prime number Finding\n",
    "\n",
    "n=int(input(\"enter N:\"))\n",
    "for i in range(2,n+1):\n",
    "    for j in range(2,i):\n",
    "        if(i%j==0):\n",
    "            break;\n",
    "    else:\n",
    "        print(i,end=\" \")"
   ]
  },
  {
   "cell_type": "code",
   "execution_count": 6,
   "id": "6981d7a2",
   "metadata": {},
   "outputs": [
    {
     "name": "stdout",
     "output_type": "stream",
     "text": [
      "a:5\n",
      "b:4\n",
      "a = 4 & b= 5\n"
     ]
    }
   ],
   "source": [
    "#swap\n",
    "a=int(input(\"a:\"))\n",
    "b=int(input(\"b:\"))\n",
    "\n",
    "t=a\n",
    "a=b\n",
    "b=t\n",
    "print('a =',a,\"&\",\"b=\",b)"
   ]
  },
  {
   "cell_type": "code",
   "execution_count": 22,
   "id": "681edfad",
   "metadata": {},
   "outputs": [
    {
     "name": "stdout",
     "output_type": "stream",
     "text": [
      "a:12\n",
      "b:24\n",
      "a = 24 & b= 12\n"
     ]
    }
   ],
   "source": [
    "#swap using 2 numbers \n",
    "\n",
    "a=int(input(\"a:\"))\n",
    "b=int(input(\"b:\"))\n",
    "\n",
    "a=a+b\n",
    "b=a-b\n",
    "a=a-b\n",
    "print('a =',a,\"&\",\"b=\",b)"
   ]
  },
  {
   "cell_type": "code",
   "execution_count": 4,
   "id": "a6eb9585",
   "metadata": {},
   "outputs": [
    {
     "name": "stdout",
     "output_type": "stream",
     "text": [
      "enter year:2022\n",
      "not a leap\n"
     ]
    }
   ],
   "source": [
    "#leap year\n",
    "\n",
    "y=int(input(\"enter year:\"))\n",
    "if(y%4==0):\n",
    "    if(y%100==0):\n",
    "        if(y%400==0):\n",
    "            print(\"Leap year\")\n",
    "        else:\n",
    "            print(\"Not a leap\")\n",
    "    else:\n",
    "        print(\"Leap\")\n",
    "else:\n",
    "    \n",
    "    print(\"not a leap\")\n"
   ]
  },
  {
   "cell_type": "code",
   "execution_count": 5,
   "id": "e387697f",
   "metadata": {},
   "outputs": [
    {
     "name": "stdout",
     "output_type": "stream",
     "text": [
      "enter year2016\n",
      "leap\n"
     ]
    }
   ],
   "source": [
    "#leap year\n",
    "\n",
    "y=int(input(\"enter year\"))\n",
    "if(y%4==0 and y%100!=0 or y%400==0):\n",
    "    print(\"leap\")\n",
    "else:\n",
    "    print(\"not a leap\")"
   ]
  },
  {
   "cell_type": "code",
   "execution_count": 13,
   "id": "f8ac3c67",
   "metadata": {},
   "outputs": [
    {
     "name": "stdout",
     "output_type": "stream",
     "text": [
      "enter n:1122\n",
      "6\n"
     ]
    }
   ],
   "source": [
    "#sum of digits\n",
    "\n",
    "n=int(input(\"enter n:\"))\n",
    "sum=0\n",
    "while(n>0):\n",
    "    b=n%10\n",
    "    sum=sum+b\n",
    "    n=n//10\n",
    "print(sum)"
   ]
  },
  {
   "cell_type": "code",
   "execution_count": 2,
   "id": "9e22a288",
   "metadata": {},
   "outputs": [
    {
     "name": "stdout",
     "output_type": "stream",
     "text": [
      "enter n:456\n",
      "456 has 3 digits\n"
     ]
    }
   ],
   "source": [
    "# no of digits\n",
    "\n",
    "n=int(input(\"enter n:\"))\n",
    "x=n\n",
    "count=0\n",
    "while(n>0):\n",
    "    count=count+1\n",
    "    n=n//10\n",
    "print(x,'has',count,\"digits\")"
   ]
  },
  {
   "cell_type": "code",
   "execution_count": 20,
   "id": "2af31539",
   "metadata": {},
   "outputs": [
    {
     "name": "stdout",
     "output_type": "stream",
     "text": [
      "1234\n",
      "4321\n"
     ]
    }
   ],
   "source": [
    "# Reverse \n",
    "n=int(input())\n",
    "re=0\n",
    "while(n>0):\n",
    "    b=n%10\n",
    "    re=re*10+b\n",
    "    n=n//10\n",
    "print(re)"
   ]
  },
  {
   "cell_type": "code",
   "execution_count": 5,
   "id": "f6b94edd",
   "metadata": {},
   "outputs": [
    {
     "name": "stdout",
     "output_type": "stream",
     "text": [
      "enter s1:radar\n",
      "palindrome\n"
     ]
    }
   ],
   "source": [
    "#reverse string\n",
    "s1=input(\"enter s1:\")\n",
    "s2=''\n",
    "for i in s1:\n",
    "    s2=i+s2\n",
    "if(s1==s2):\n",
    "    print(\"palindrome\")\n",
    "else:\n",
    "    print(\"Not palindrome\")"
   ]
  },
  {
   "cell_type": "code",
   "execution_count": 13,
   "id": "2b9f9131",
   "metadata": {},
   "outputs": [
    {
     "name": "stdout",
     "output_type": "stream",
     "text": [
      "enter celius:45.6\n",
      "Temp in F=114.08\n"
     ]
    }
   ],
   "source": [
    "# celius to farheit\n",
    "c=float(input(\"enter celius:\"))\n",
    "f=(1.8*c)+32\n",
    "print(\"Temp in F={0:.2f}\".format(f))"
   ]
  },
  {
   "cell_type": "code",
   "execution_count": 17,
   "id": "83826cc0",
   "metadata": {},
   "outputs": [
    {
     "name": "stdout",
     "output_type": "stream",
     "text": [
      "enter celius:114.08\n",
      "45.60\n"
     ]
    }
   ],
   "source": [
    "f=float(input(\"enter celius:\"))\n",
    "c=((f-32)*5/9)\n",
    "print(\"%.2f\"%c)"
   ]
  },
  {
   "cell_type": "code",
   "execution_count": 1,
   "id": "f9dee106",
   "metadata": {},
   "outputs": [
    {
     "name": "stdout",
     "output_type": "stream",
     "text": [
      "a:5\n",
      "b:4\n",
      "9\n"
     ]
    }
   ],
   "source": [
    "#adding\n",
    "a=int(input(\"a:\"))\n",
    "b=int(input(\"b:\"))\n",
    "\n",
    "c=a-(-b)\n",
    "print(c)"
   ]
  },
  {
   "cell_type": "code",
   "execution_count": 3,
   "id": "caebaeed",
   "metadata": {},
   "outputs": [
    {
     "name": "stdout",
     "output_type": "stream",
     "text": [
      "a:5\n",
      "b:3\n",
      "-4 -3\n",
      "2\n"
     ]
    }
   ],
   "source": [
    "#subtracting\n",
    "a=int(input(\"a:\"))\n",
    "b=int(input(\"b:\"))\n",
    "\n",
    "print(~b,~b+1)\n",
    "c=a+(~b+1)\n",
    "print(c)"
   ]
  },
  {
   "cell_type": "code",
   "execution_count": 7,
   "id": "4451b35f",
   "metadata": {},
   "outputs": [
    {
     "name": "stdout",
     "output_type": "stream",
     "text": [
      "a:5\n",
      "b:4\n",
      "20\n"
     ]
    }
   ],
   "source": [
    "#Multiplication\n",
    "def multiply(n1,n2):\n",
    "    mul=0\n",
    "    if(n2<0):\n",
    "        n2=-n2\n",
    "        n1=-n1\n",
    "    for i in range(1,n2+1):\n",
    "        mul=mul+n1\n",
    "    return mul\n",
    "\n",
    "a=int(input(\"a:\"))\n",
    "b=int(input(\"b:\"))\n",
    "\n",
    "print(multiply(a,b))"
   ]
  },
  {
   "cell_type": "code",
   "execution_count": 9,
   "id": "bcbc3de4",
   "metadata": {},
   "outputs": [
    {
     "name": "stdout",
     "output_type": "stream",
     "text": [
      "Enter:red\n",
      "der \n"
     ]
    }
   ],
   "source": [
    "# Reverse String\n",
    "st=input(\"Enter:\")\n",
    "rev=\" \"\n",
    "\n",
    "for i in st:\n",
    "    rev=i+rev\n",
    "\n",
    "print(rev)"
   ]
  },
  {
   "cell_type": "code",
   "execution_count": 11,
   "id": "8d777637",
   "metadata": {},
   "outputs": [
    {
     "name": "stdout",
     "output_type": "stream",
     "text": [
      "enter s: raju\n",
      "ujar \n"
     ]
    }
   ],
   "source": [
    "def rev(s):\n",
    "    str=\" \"\n",
    "    for i in s:\n",
    "        str=i+str\n",
    "    return str\n",
    "\n",
    "s=input(\"enter s: \")\n",
    "r=rev(s)\n",
    "print(r)"
   ]
  },
  {
   "cell_type": "code",
   "execution_count": 15,
   "id": "5a635708",
   "metadata": {},
   "outputs": [
    {
     "name": "stdout",
     "output_type": "stream",
     "text": [
      "54 is max\n"
     ]
    }
   ],
   "source": [
    "# max in array\n",
    "\n",
    "arr=[12,54,14,1,20,16]\n",
    "ma=0\n",
    "for i in range(len(arr)):\n",
    "    if(arr[i]>ma):\n",
    "        ma=arr[i]\n",
    "        \n",
    "print(ma,\"is max\")"
   ]
  },
  {
   "cell_type": "code",
   "execution_count": 8,
   "id": "801cefde",
   "metadata": {},
   "outputs": [
    {
     "name": "stdout",
     "output_type": "stream",
     "text": [
      "783\n",
      "9\n"
     ]
    }
   ],
   "source": [
    "a=float(input())\n",
    "count=0\n",
    "\n",
    "while(a>1):\n",
    "    a=a//2\n",
    "    count=count+1\n",
    "print(count)\n",
    "count=0"
   ]
  },
  {
   "cell_type": "code",
   "execution_count": 23,
   "id": "a7b997e4",
   "metadata": {},
   "outputs": [
    {
     "name": "stdout",
     "output_type": "stream",
     "text": [
      "105 120 135 150 165 180 195 "
     ]
    }
   ],
   "source": [
    "for i in range(100,200):\n",
    "    if(i%3==0 and i%5==0):\n",
    "        print(i,end=\" \")"
   ]
  },
  {
   "cell_type": "code",
   "execution_count": 30,
   "id": "e81e7de3",
   "metadata": {},
   "outputs": [
    {
     "name": "stdout",
     "output_type": "stream",
     "text": [
      "5150 "
     ]
    }
   ],
   "source": [
    "sum=0\n",
    "for i in range(101,1,-1):\n",
    "    sum=sum+i\n",
    "print(sum,end=\" \")"
   ]
  },
  {
   "cell_type": "code",
   "execution_count": 36,
   "id": "b335d6db",
   "metadata": {},
   "outputs": [
    {
     "name": "stdout",
     "output_type": "stream",
     "text": [
      "\n",
      "* \n",
      "Blank Line\n",
      "\n",
      "* * * \n",
      "Blank Line\n",
      "\n",
      "* * * * * \n",
      "Blank Line\n",
      "\n",
      "* * * * * * * \n",
      "Blank Line\n",
      "\n",
      "* * * * * * * * * \n"
     ]
    }
   ],
   "source": [
    "for i in range(0,10):\n",
    "    for j in  range(1,i+1):\n",
    "        if(i%2==0):\n",
    "            print(\"Blank Line\")\n",
    "            break\n",
    "        else:\n",
    "            print(\"*\",end=\" \")\n",
    "    print()"
   ]
  },
  {
   "cell_type": "code",
   "execution_count": 45,
   "id": "49efcf87",
   "metadata": {},
   "outputs": [
    {
     "name": "stdout",
     "output_type": "stream",
     "text": [
      "A B C D E F G H I J K L M N O P Q R S T U V W X Y Z  \n",
      "a b c d e f g h i j k l m n o p q r s t u v w x y z "
     ]
    }
   ],
   "source": [
    "for i in range(65,91):\n",
    "    print(chr(i),end=\" \")\n",
    "\n",
    "print(\" \")\n",
    "\n",
    "for i in range(97,123):\n",
    "    print(chr(i),end=\" \")"
   ]
  },
  {
   "cell_type": "code",
   "execution_count": 7,
   "id": "76d37154",
   "metadata": {},
   "outputs": [
    {
     "name": "stdout",
     "output_type": "stream",
     "text": [
      "0 1 1 2 3 5 8 13 "
     ]
    }
   ],
   "source": [
    "a=0\n",
    "b=1\n",
    "n=15\n",
    "while(a<=n):\n",
    "    c=a\n",
    "    a=b\n",
    "    b=a+c\n",
    "    print(c,end=\" \")"
   ]
  },
  {
   "cell_type": "code",
   "execution_count": 12,
   "id": "6228b76e",
   "metadata": {},
   "outputs": [
    {
     "name": "stdout",
     "output_type": "stream",
     "text": [
      "2160\n",
      "8\n",
      "270.0\n"
     ]
    }
   ],
   "source": [
    "su=0\n",
    "count=0\n",
    "for i in range(10,501):\n",
    "    if(i%3==0 and i%5==0 and i%12==0):\n",
    "        su=su+i\n",
    "        count=count+1\n",
    "\n",
    "avg=su/count\n",
    "print(su)\n",
    "print(count)\n",
    "print(avg)"
   ]
  },
  {
   "cell_type": "code",
   "execution_count": 6,
   "id": "3f777a61",
   "metadata": {},
   "outputs": [
    {
     "name": "stdout",
     "output_type": "stream",
     "text": [
      "N:5\n",
      "1  \n",
      "2 3  \n",
      "4 5 6  \n",
      "7 8 9 10  \n",
      "11 12 13 14 15  \n"
     ]
    }
   ],
   "source": [
    "k=1\n",
    "n=int(input(\"N:\"))\n",
    "for i in range(n):\n",
    "    for j in range(i+1):\n",
    "        print(k,end=\" \")\n",
    "        k=k+1\n",
    "    print(\" \")"
   ]
  },
  {
   "cell_type": "code",
   "execution_count": null,
   "id": "a5bd1e81",
   "metadata": {},
   "outputs": [],
   "source": []
  },
  {
   "cell_type": "code",
   "execution_count": 5,
   "id": "7d2936d4",
   "metadata": {},
   "outputs": [
    {
     "name": "stdout",
     "output_type": "stream",
     "text": [
      "3\n",
      "36\n"
     ]
    }
   ],
   "source": [
    "n=int(input())\n",
    "sum=0\n",
    "for i in range(1,n+1):\n",
    "    sum=sum+(i*i)\n",
    "    \n",
    "print(sum)"
   ]
  },
  {
   "cell_type": "code",
   "execution_count": null,
   "id": "56df8826",
   "metadata": {},
   "outputs": [],
   "source": []
  }
 ],
 "metadata": {
  "kernelspec": {
   "display_name": "Python 3",
   "language": "python",
   "name": "python3"
  },
  "language_info": {
   "codemirror_mode": {
    "name": "ipython",
    "version": 3
   },
   "file_extension": ".py",
   "mimetype": "text/x-python",
   "name": "python",
   "nbconvert_exporter": "python",
   "pygments_lexer": "ipython3",
   "version": "3.8.8"
  }
 },
 "nbformat": 4,
 "nbformat_minor": 5
}
