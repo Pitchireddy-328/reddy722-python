{
 "cells": [
  {
   "cell_type": "code",
   "execution_count": 1,
   "id": "5edb3c83",
   "metadata": {},
   "outputs": [],
   "source": [
    "fo=open('sample.txt','a')\n",
    "fo.write('hello Reddy')\n",
    "fo.close()"
   ]
  },
  {
   "cell_type": "code",
   "execution_count": 2,
   "id": "4a13c407",
   "metadata": {},
   "outputs": [],
   "source": [
    "fo=open('sample.txt','a+')\n",
    "fo.write('How are you')\n",
    "fo.close()"
   ]
  },
  {
   "cell_type": "code",
   "execution_count": 3,
   "id": "857e26e4",
   "metadata": {},
   "outputs": [],
   "source": [
    "fo=open('sample.txt','r+')\n",
    "fo.close()"
   ]
  },
  {
   "cell_type": "code",
   "execution_count": 5,
   "id": "12e47767",
   "metadata": {},
   "outputs": [],
   "source": [
    "fo=open('sample.txt','a+')\n",
    "fo.write(' How are you')\n",
    "fo.read()\n",
    "fo.close()"
   ]
  },
  {
   "cell_type": "code",
   "execution_count": 6,
   "id": "e514906a",
   "metadata": {},
   "outputs": [
    {
     "name": "stdout",
     "output_type": "stream",
     "text": [
      "\n"
     ]
    }
   ],
   "source": [
    "fo=open('sample.txt','a+')\n",
    "print(fo.read())\n",
    "fo.close()"
   ]
  },
  {
   "cell_type": "code",
   "execution_count": 7,
   "id": "fae8ec66",
   "metadata": {},
   "outputs": [
    {
     "name": "stdout",
     "output_type": "stream",
     "text": [
      "file created\n",
      "cursor location:  0\n",
      "whole date=  hello ReddyHow are youHow are you How are you\n",
      "cursor location:  45\n"
     ]
    }
   ],
   "source": [
    "fi_obj=open('sample.txt','r')\n",
    "print('file created')\n",
    "print('cursor location: ',fi_obj.tell())\n",
    "data=fi_obj.read()\n",
    "print(\"whole date= \",data)\n",
    "print('cursor location: ',fi_obj.tell())\n",
    "fi_obj.close()"
   ]
  },
  {
   "cell_type": "code",
   "execution_count": 15,
   "id": "f178b17a",
   "metadata": {},
   "outputs": [
    {
     "name": "stdout",
     "output_type": "stream",
     "text": [
      "file created\n",
      "cursor location:  51\n",
      "whole date=  hello ReddyHow are youHow are you How are you112233\n",
      "cursor location:  0\n",
      "whole date=  hello ReddyHow are youHow are you How are you112233\n",
      "cursor location:  57\n",
      "whole date=  \n"
     ]
    }
   ],
   "source": [
    "fi_obj=open('sample.txt','a+')\n",
    "print('file created')\n",
    "print('cursor location: ',fi_obj.tell())\n",
    "fi_obj.seek(0,0)\n",
    "data=fi_obj.read()\n",
    "print(\"whole date= \",data)\n",
    "fi_obj.seek(0,0)\n",
    "print('cursor location: ',fi_obj.tell())\n",
    "data=fi_obj.read()\n",
    "print(\"whole date= \",data)\n",
    "fi_obj.write('112233')\n",
    "print('cursor location: ',fi_obj.tell())\n",
    "data=fi_obj.read()\n",
    "print(\"whole date= \",data)\n",
    "fi_obj.close()"
   ]
  },
  {
   "cell_type": "code",
   "execution_count": null,
   "id": "833a4eea",
   "metadata": {},
   "outputs": [],
   "source": []
  },
  {
   "cell_type": "code",
   "execution_count": null,
   "id": "439c29f2",
   "metadata": {},
   "outputs": [],
   "source": []
  },
  {
   "cell_type": "code",
   "execution_count": null,
   "id": "159ef242",
   "metadata": {},
   "outputs": [],
   "source": []
  }
 ],
 "metadata": {
  "kernelspec": {
   "display_name": "Python 3",
   "language": "python",
   "name": "python3"
  },
  "language_info": {
   "codemirror_mode": {
    "name": "ipython",
    "version": 3
   },
   "file_extension": ".py",
   "mimetype": "text/x-python",
   "name": "python",
   "nbconvert_exporter": "python",
   "pygments_lexer": "ipython3",
   "version": "3.8.8"
  }
 },
 "nbformat": 4,
 "nbformat_minor": 5
}
