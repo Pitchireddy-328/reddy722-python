{
 "cells": [
  {
   "cell_type": "code",
   "execution_count": 4,
   "id": "4ce4bd9f",
   "metadata": {},
   "outputs": [
    {
     "name": "stdout",
     "output_type": "stream",
     "text": [
      "\n",
      "* \n",
      "* * \n",
      "* * * \n",
      "* * * * \n",
      "* * * * * \n"
     ]
    }
   ],
   "source": [
    "n=5\n",
    "for i in range(n+1):\n",
    "    for j in range(i):\n",
    "        print('*',end=' ')\n",
    "    print()"
   ]
  },
  {
   "cell_type": "code",
   "execution_count": 5,
   "id": "01d7bd95",
   "metadata": {},
   "outputs": [
    {
     "name": "stdout",
     "output_type": "stream",
     "text": [
      "* * * * * \n",
      "* * * * \n",
      "* * * \n",
      "* * \n",
      "* \n"
     ]
    }
   ],
   "source": [
    "n=5\n",
    "for i in range(n,0,-1):\n",
    "    for j in range(i):\n",
    "        print('*',end=' ')\n",
    "    print()"
   ]
  },
  {
   "cell_type": "code",
   "execution_count": 8,
   "id": "40eeea5e",
   "metadata": {},
   "outputs": [
    {
     "name": "stdout",
     "output_type": "stream",
     "text": [
      "\n",
      "* \n",
      "* * \n",
      "* * * \n",
      "* * * * \n",
      "* * * * * \n",
      "* * * * \n",
      "* * * \n",
      "* * \n",
      "* \n",
      "\n"
     ]
    }
   ],
   "source": [
    "n=5\n",
    "for i in range(n+1):\n",
    "    for j in range(i):\n",
    "        print('*',end=' ')\n",
    "    print()\n",
    "\n",
    "for i in range(n,0,-1):\n",
    "    for j in range(i-1):\n",
    "        print('*',end=' ')\n",
    "    print()"
   ]
  },
  {
   "cell_type": "code",
   "execution_count": 2,
   "id": "7f5158e3",
   "metadata": {},
   "outputs": [
    {
     "name": "stdout",
     "output_type": "stream",
     "text": [
      "\n",
      " * * * * \n",
      " * * * *  * * * * \n",
      " * * * *  * * * *  * * * * \n",
      " * * * *  * * * *  * * * *  * * * * \n",
      " * * * *  * * * *  * * * *  * * * *  * * * * \n"
     ]
    }
   ],
   "source": [
    "n=5\n",
    "k=n-1\n",
    "for i in range(n+1):\n",
    "    for j in range(i):\n",
    "        print(end=' ')\n",
    "#         k=k+1\n",
    "        for l in range(k):\n",
    "            print(\"*\",end=' ')\n",
    "    print()"
   ]
  },
  {
   "cell_type": "code",
   "execution_count": 18,
   "id": "ca8ac9de",
   "metadata": {},
   "outputs": [
    {
     "name": "stdout",
     "output_type": "stream",
     "text": [
      " * * * *  * * * *  * * * *  * * * *  * * * * \n",
      " * * * *  * * * *  * * * *  * * * * \n",
      " * * * *  * * * *  * * * * \n",
      " * * * *  * * * * \n",
      " * * * * \n"
     ]
    }
   ],
   "source": [
    "n=5\n",
    "k=n-1\n",
    "for i in range(n,0,-1):\n",
    "    for j in range(i,0,-1):\n",
    "        print(end=' ')\n",
    "#         k=k+1\n",
    "        for l in range(k):\n",
    "            print(\"*\",end=' ')\n",
    "    print()"
   ]
  },
  {
   "cell_type": "code",
   "execution_count": 23,
   "id": "e3d8e3e0",
   "metadata": {},
   "outputs": [
    {
     "name": "stdout",
     "output_type": "stream",
     "text": [
      "\n",
      " * * * * \n",
      " * * * *  * * * * \n",
      " * * * *  * * * *  * * * * \n",
      " * * * *  * * * *  * * * *  * * * * \n",
      " * * * *  * * * *  * * * *  * * * *  * * * * \n",
      " * * * *  * * * *  * * * *  * * * *  * * * *  * * * * \n",
      " * * * *  * * * *  * * * *  * * * *  * * * * \n",
      " * * * *  * * * *  * * * *  * * * * \n",
      " * * * *  * * * *  * * * * \n",
      " * * * *  * * * * \n"
     ]
    }
   ],
   "source": [
    "n=5\n",
    "k=n-1\n",
    "for i in range(n+1):\n",
    "    for j in range(i):\n",
    "        print(end=' ')\n",
    "#         k=k+1\n",
    "        for l in range(k):\n",
    "            print(\"*\",end=' ')\n",
    "    print()\n",
    "    \n",
    "k=n-1\n",
    "for i in range(n,0,-1):\n",
    "    for j in range(i+1):\n",
    "        print(end=' ')\n",
    "#         k=k+1\n",
    "        for l in range(k):\n",
    "            print(\"*\",end=' ')\n",
    "    print()"
   ]
  },
  {
   "cell_type": "code",
   "execution_count": 2,
   "id": "d677a2fb",
   "metadata": {},
   "outputs": [
    {
     "name": "stdout",
     "output_type": "stream",
     "text": [
      "5\n",
      "5\n"
     ]
    }
   ],
   "source": [
    "n=int(input())\n",
    "print(n)"
   ]
  },
  {
   "cell_type": "code",
   "execution_count": null,
   "id": "1e8cb5a4",
   "metadata": {},
   "outputs": [],
   "source": []
  },
  {
   "cell_type": "code",
   "execution_count": null,
   "id": "ee2b8bd8",
   "metadata": {},
   "outputs": [],
   "source": []
  }
 ],
 "metadata": {
  "kernelspec": {
   "display_name": "Python 3",
   "language": "python",
   "name": "python3"
  },
  "language_info": {
   "codemirror_mode": {
    "name": "ipython",
    "version": 3
   },
   "file_extension": ".py",
   "mimetype": "text/x-python",
   "name": "python",
   "nbconvert_exporter": "python",
   "pygments_lexer": "ipython3",
   "version": "3.8.8"
  }
 },
 "nbformat": 4,
 "nbformat_minor": 5
}
