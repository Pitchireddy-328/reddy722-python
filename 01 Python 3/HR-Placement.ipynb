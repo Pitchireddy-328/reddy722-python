{
 "cells": [
  {
   "cell_type": "code",
   "execution_count": 2,
   "id": "95f51042",
   "metadata": {},
   "outputs": [
    {
     "name": "stdout",
     "output_type": "stream",
     "text": [
      "enter n: 5\n",
      "     1  \n",
      "    1 1  \n",
      "   1 2 1  \n",
      "  1 3 3 1  \n",
      " 1 4 6 4 1  \n"
     ]
    }
   ],
   "source": [
    "#pascal Triangel\n",
    "\n",
    "n=int(input(\"enter n: \"))\n",
    "c=n-1\n",
    "\n",
    "for i in range(0,n):\n",
    "    x=1\n",
    "    for k in range(0,c+1):\n",
    "        print(end=\" \")\n",
    "    for j in range(0,i+1):\n",
    "        print(int(x),end=\" \")\n",
    "        x=(x*(i-j)/(j+1))\n",
    "    c=c-1\n",
    "    print(\" \")"
   ]
  },
  {
   "cell_type": "code",
   "execution_count": 2,
   "id": "22aceb4c",
   "metadata": {},
   "outputs": [
    {
     "name": "stdout",
     "output_type": "stream",
     "text": [
      "enter n: 5\n",
      "     1  \n",
      "    1 1  \n",
      "   1 2 1  \n",
      "  1 3 3 1  \n",
      " 1 4 6 4 1  \n"
     ]
    }
   ],
   "source": [
    "#pasacal method 2\n",
    "n=int(input(\"enter n: \"))\n",
    "\n",
    "for i in range(0,n):\n",
    "    x=1\n",
    "    for k in range(0,n):\n",
    "        print(end=\" \")\n",
    "    for j in range(0,i+1):\n",
    "        print(int(x),end=\" \")\n",
    "        x=(x*(i-j)/(j+1))\n",
    "    n=n-1\n",
    "    print(\" \")"
   ]
  },
  {
   "cell_type": "code",
   "execution_count": 1,
   "id": "e1b84744",
   "metadata": {},
   "outputs": [
    {
     "name": "stdout",
     "output_type": "stream",
     "text": [
      "5\n",
      "1 =  1\n",
      "1 + 2 =  3\n",
      "1 + 2 + 3 =  6\n",
      "1 + 2 + 3 + 4 =  10\n",
      "1 + 2 + 3 + 4 + 5 =  15\n",
      "\n"
     ]
    }
   ],
   "source": [
    "# Right angle triangle\n",
    "\n",
    "rows = int(input())\n",
    "\n",
    "for i in range(1,rows+1):\n",
    "    sum=0\n",
    "    for j in range(1,i+1):\n",
    "        sum+=j\n",
    "        if(j!=i):\n",
    "            print(\"%d +\"%j,end=\" \")\n",
    "        else:\n",
    "            print(\"%d = \"%j,end=\" \")\n",
    "    print(sum)\n",
    "print('')"
   ]
  },
  {
   "cell_type": "code",
   "execution_count": 6,
   "id": "52254b88",
   "metadata": {},
   "outputs": [
    {
     "name": "stdout",
     "output_type": "stream",
     "text": [
      "enter Rows:5\n",
      "1 \n",
      "2 3 \n",
      "4 5 6 \n",
      "7 8 9 10 \n",
      "11 12 13 14 15 \n"
     ]
    }
   ],
   "source": [
    "# floyd's Triangle\n",
    "\n",
    "rows = int(input(\"enter Rows:\"))\n",
    "k=1\n",
    "for i in range(rows):\n",
    "    for j in range(i+1):\n",
    "        print(k,end=' ')\n",
    "        k+=1\n",
    "    print(\"\")"
   ]
  },
  {
   "cell_type": "code",
   "execution_count": 10,
   "id": "8e6c6bb2",
   "metadata": {},
   "outputs": [
    {
     "name": "stdout",
     "output_type": "stream",
     "text": [
      "enter num:5\n",
      "result =  120\n"
     ]
    }
   ],
   "source": [
    "# factrorial\n",
    "\n",
    "num=int(input(\"enter num:\"))\n",
    "\n",
    "for i in range(1,num):\n",
    "    num=num*i;\n",
    "print(\"result = \",num)"
   ]
  },
  {
   "cell_type": "code",
   "execution_count": 7,
   "id": "f3d182f7",
   "metadata": {},
   "outputs": [
    {
     "name": "stdout",
     "output_type": "stream",
     "text": [
      "enter n:5\n",
      "1  :  1\n",
      "2  :  2\n",
      "3  :  6\n",
      "4  :  24\n",
      "5  :  120\n"
     ]
    }
   ],
   "source": [
    "n=int(input(\"enter n:\"))\n",
    "\n",
    "for i in range(1,n+1):\n",
    "    f=1\n",
    "    for j in range(1,i+1):\n",
    "        f=f*j\n",
    "    print(i,\" : \",f)"
   ]
  },
  {
   "cell_type": "code",
   "execution_count": 5,
   "id": "286a503d",
   "metadata": {},
   "outputs": [
    {
     "name": "stdout",
     "output_type": "stream",
     "text": [
      "enter Rows:3\n",
      "1   2\n",
      "\n",
      "4   3\n",
      "\n",
      "5   6\n",
      "\n"
     ]
    }
   ],
   "source": [
    "#spiral Trangle\n",
    "rows = int(input(\"enter Rows:\"))\n",
    "k=1\n",
    "\n",
    "for i in range(1,rows*2,2):\n",
    "    if(k%2==1):\n",
    "        print(i,' ',i+1)\n",
    "        k=k+1\n",
    "    else:\n",
    "        print(i+1,' ',i)\n",
    "        k=k+1\n",
    "#     i=i+2\n",
    "    print('')"
   ]
  },
  {
   "cell_type": "code",
   "execution_count": 29,
   "id": "982e0d0e",
   "metadata": {},
   "outputs": [
    {
     "name": "stdout",
     "output_type": "stream",
     "text": [
      "enter Rows:3\n",
      "A  B\n",
      "\n",
      "D  C\n",
      "\n",
      "E  F\n",
      "\n"
     ]
    }
   ],
   "source": [
    "rows = int(input(\"enter Rows:\"))\n",
    "k=1\n",
    "for i in range(1,rows*2,2):\n",
    "    if(k%2==1):\n",
    "        print(\"%c  %c\"%(i+64,i+65))\n",
    "        k=k+1\n",
    "    else:\n",
    "        print(\"%c  %c\"%(i+65,i+64))\n",
    "        k=k+1\n",
    "    print('')"
   ]
  },
  {
   "cell_type": "code",
   "execution_count": 30,
   "id": "547281a6",
   "metadata": {},
   "outputs": [
    {
     "name": "stdout",
     "output_type": "stream",
     "text": [
      "enter num:5\n",
      "enter num:30\n",
      "Gcd is 5 & LCM is  30.0\n"
     ]
    }
   ],
   "source": [
    "# GCD and LCM\n",
    "\n",
    "a=int(input(\"enter num:\"))\n",
    "b=int(input(\"enter num:\"))\n",
    "x=a\n",
    "y=b\n",
    "while(b!=0):\n",
    "    t=b\n",
    "    b=a%b\n",
    "    a=t\n",
    "gcd=a\n",
    "lcm=(x*y)/gcd\n",
    "\n",
    "print(\"Gcd is\",gcd,\"&\",\"LCM is \",lcm)"
   ]
  },
  {
   "cell_type": "code",
   "execution_count": 61,
   "id": "4224f32c",
   "metadata": {},
   "outputs": [
    {
     "name": "stdout",
     "output_type": "stream",
     "text": [
      "5\n",
      "120\n"
     ]
    }
   ],
   "source": [
    "#factorial \n",
    "\n",
    "def fact(n):\n",
    "    if(n<=1):\n",
    "        return 1\n",
    "    else:\n",
    "        n=n*fact(n-1)\n",
    "        return n\n",
    "n=int(input())\n",
    "print(fact(n))"
   ]
  },
  {
   "cell_type": "code",
   "execution_count": 23,
   "id": "6aac9bc0",
   "metadata": {},
   "outputs": [
    {
     "name": "stdout",
     "output_type": "stream",
     "text": [
      "enter n:5\n",
      "0 1\n",
      "1 2 3 5 8 "
     ]
    }
   ],
   "source": [
    "#Fibonic series\n",
    "a=0\n",
    "b=1\n",
    "n=int(input(\"enter n:\"))\n",
    "print(a,b)\n",
    "for i in range(n):\n",
    "    c=a+b\n",
    "    a=b\n",
    "    b=c\n",
    "    print(c,end=\" \")"
   ]
  },
  {
   "cell_type": "code",
   "execution_count": 44,
   "id": "6fb12839",
   "metadata": {},
   "outputs": [
    {
     "name": "stdout",
     "output_type": "stream",
     "text": [
      "0 1 1 2 3 5 8 13 "
     ]
    }
   ],
   "source": [
    "# method 2\n",
    "a=0\n",
    "b=1\n",
    "n=15\n",
    "while(a<=n):\n",
    "    c=a\n",
    "    a=b\n",
    "    b=a+c\n",
    "    print(c,end=\" \")"
   ]
  },
  {
   "cell_type": "code",
   "execution_count": 12,
   "id": "aff58fac",
   "metadata": {},
   "outputs": [
    {
     "name": "stdout",
     "output_type": "stream",
     "text": [
      "n:5\n",
      "120\n"
     ]
    }
   ],
   "source": [
    "n=int(input(\"n:\"))\n",
    "def fac(n):\n",
    "    for i in range(1,n):\n",
    "        n=n*i\n",
    "    print(n)\n",
    "fac(n)"
   ]
  },
  {
   "cell_type": "code",
   "execution_count": 47,
   "id": "a7201a78",
   "metadata": {},
   "outputs": [
    {
     "name": "stdout",
     "output_type": "stream",
     "text": [
      "2160\n",
      "8\n",
      "270.0\n"
     ]
    }
   ],
   "source": [
    "# Average\n",
    "su=0\n",
    "count=0\n",
    "for i in range(10,501):\n",
    "    if(i%3==0 and i%5==0 and i%12==0):\n",
    "        su=su+i\n",
    "        count=count+1\n",
    "\n",
    "avg=su/count\n",
    "print(su)\n",
    "print(count)\n",
    "print(avg)"
   ]
  },
  {
   "cell_type": "code",
   "execution_count": 15,
   "id": "cd6eb8ad",
   "metadata": {},
   "outputs": [
    {
     "name": "stdout",
     "output_type": "stream",
     "text": [
      "s1:hero\n",
      "s2:oreh\n",
      "anagram\n"
     ]
    }
   ],
   "source": [
    "n=input(\"s1:\")\n",
    "m=input(\"s2:\")\n",
    "\n",
    "if(sorted(n)==sorted(m)):\n",
    "    print(\"anagram\")\n",
    "else:\n",
    "    print('not a anagram')"
   ]
  },
  {
   "cell_type": "code",
   "execution_count": 5,
   "id": "b7e3107f",
   "metadata": {},
   "outputs": [
    {
     "name": "stdout",
     "output_type": "stream",
     "text": [
      "N:370\n",
      "370\n",
      "Armstrong\n"
     ]
    }
   ],
   "source": [
    "# Armstone Number\n",
    "n=int(input(\"N:\"))\n",
    "t=n\n",
    "r=0\n",
    "while(n>0):\n",
    "    a=n%10\n",
    "    r=r+a*a*a\n",
    "    n=n//10\n",
    "    \n",
    "print(r)\n",
    "if(r==t):\n",
    "    print(\"Armstrong\")\n",
    "else:\n",
    "    print(\"Not a Armstrong\")"
   ]
  },
  {
   "cell_type": "code",
   "execution_count": 70,
   "id": "032a0b23",
   "metadata": {},
   "outputs": [
    {
     "name": "stdout",
     "output_type": "stream",
     "text": [
      "num:12\n",
      "12 is a pronic of  3 and 4\n"
     ]
    }
   ],
   "source": [
    "#Pronic Numbers\n",
    "num=int(input(\"num:\"))\n",
    "f=0\n",
    "\n",
    "for i in range(num+1):\n",
    "    if(i*(i+1)==num):\n",
    "        f=1\n",
    "        break\n",
    "if(f==1):\n",
    "    print(num,\"is a pronic of \",i,'and',i+1)\n",
    "else:\n",
    "    print(\"Not pronic\")"
   ]
  },
  {
   "cell_type": "code",
   "execution_count": 16,
   "id": "bb0824f0",
   "metadata": {},
   "outputs": [
    {
     "name": "stdout",
     "output_type": "stream",
     "text": [
      "370  is ArmStrong Number\n",
      "158  is Not ArmStrong Number\n"
     ]
    }
   ],
   "source": [
    "def arm(n):\n",
    "    t=n\n",
    "    r=0\n",
    "    for i in range(n+1):\n",
    "        b=n%10\n",
    "        r=r+b*b*b\n",
    "        n=n//10\n",
    "    if(r==t):\n",
    "        print(t,\" is ArmStrong Number\")\n",
    "    else:\n",
    "        print(t,\" is Not ArmStrong Number\")\n",
    "\n",
    "arm(370)\n",
    "arm(158)"
   ]
  },
  {
   "cell_type": "code",
   "execution_count": 22,
   "id": "254a4977",
   "metadata": {},
   "outputs": [
    {
     "name": "stdout",
     "output_type": "stream",
     "text": [
      "56 Pronic are  7  &  8\n",
      "12 Pronic are  3  &  4\n",
      "81 has no pronic\n",
      "11 has no pronic\n"
     ]
    }
   ],
   "source": [
    "def proni(n):\n",
    "    f=0\n",
    "    for i in range(n):\n",
    "        if(i*(i+1)==n):\n",
    "            f=1\n",
    "            break\n",
    "    if(f==1):\n",
    "        print(n,\"Pronic are \",i,\" & \",i+1)\n",
    "    else:\n",
    "        print(n,\"has no pronic\")\n",
    "        \n",
    "proni(56)\n",
    "proni(12)\n",
    "proni(81)\n",
    "proni(11)"
   ]
  },
  {
   "cell_type": "code",
   "execution_count": 28,
   "id": "45fc3ce8",
   "metadata": {},
   "outputs": [
    {
     "name": "stdout",
     "output_type": "stream",
     "text": [
      "Reddy Reverse is  yddeR\n",
      "Raju Reverse is  ujaR\n"
     ]
    }
   ],
   "source": [
    "def rev(str):\n",
    "    r=\"\"\n",
    "    for i in str:\n",
    "        r=i+r\n",
    "    print(str,\"Reverse is \",r)\n",
    "    \n",
    "rev('Reddy')\n",
    "rev('Raju')"
   ]
  },
  {
   "cell_type": "code",
   "execution_count": 24,
   "id": "915e948b",
   "metadata": {},
   "outputs": [
    {
     "name": "stdout",
     "output_type": "stream",
     "text": [
      "7\n",
      "2\n"
     ]
    }
   ],
   "source": [
    "# decimal to binary version count\n",
    "\n",
    "a=float(input())\n",
    "count=0\n",
    "\n",
    "while(a>1):\n",
    "    a=a//2\n",
    "    count=count+1\n",
    "print(count)\n",
    "count=0"
   ]
  },
  {
   "cell_type": "code",
   "execution_count": 21,
   "id": "8acd5f99",
   "metadata": {},
   "outputs": [
    {
     "name": "stdout",
     "output_type": "stream",
     "text": [
      "1 1 0 0 0  \n",
      "1 1 1 "
     ]
    }
   ],
   "source": [
    "# decimal to binary\n",
    "def detobi(num):\n",
    "    if num>=1:\n",
    "        detobi(num//2)\n",
    "    if(num!=0):\n",
    "        print(num%2,end=\" \")\n",
    "    \n",
    "if __name__ == '__main__':\n",
    "    a=24\n",
    "    b=7\n",
    "    detobi(a)\n",
    "    print(\" \")\n",
    "    detobi(b)"
   ]
  },
  {
   "cell_type": "code",
   "execution_count": 19,
   "id": "af609890",
   "metadata": {},
   "outputs": [
    {
     "name": "stdout",
     "output_type": "stream",
     "text": [
      "111\n"
     ]
    }
   ],
   "source": [
    "def detobi(num):\n",
    "    return \"{0:b}\".format(int(num))\n",
    "print(detobi(7))"
   ]
  },
  {
   "cell_type": "code",
   "execution_count": null,
   "id": "e821e427",
   "metadata": {},
   "outputs": [],
   "source": []
  },
  {
   "cell_type": "code",
   "execution_count": 28,
   "id": "5f12b4cf",
   "metadata": {},
   "outputs": [
    {
     "name": "stdout",
     "output_type": "stream",
     "text": [
      "5\n",
      "1\n",
      "2\n",
      "FIZZ\n",
      "4\n",
      "BUZZ\n"
     ]
    }
   ],
   "source": [
    "def fizz(n):\n",
    "    if(n%3==0 and n%5==0):\n",
    "        print(\"FIZZBUZZ\")\n",
    "    elif(n%3==0):\n",
    "        print(\"FIZZ\")\n",
    "    elif(n%5==0):\n",
    "        print(\"BUZZ\")\n",
    "    else:\n",
    "        print(n)\n",
    "\n",
    "x=int(input())\n",
    "for i in range(1,x+1):\n",
    "    fizz(i)"
   ]
  },
  {
   "cell_type": "code",
   "execution_count": 36,
   "id": "ab361398",
   "metadata": {},
   "outputs": [
    {
     "name": "stdout",
     "output_type": "stream",
     "text": [
      "4 2 2 5\n",
      "-1.5\n"
     ]
    }
   ],
   "source": [
    "#slope\n",
    "x1,x2,y1,y2=map(int,input().split())\n",
    "s=float((y2-y1)/(x2-x1))\n",
    "print(s)"
   ]
  },
  {
   "cell_type": "code",
   "execution_count": 39,
   "id": "c32e14ec",
   "metadata": {},
   "outputs": [
    {
     "name": "stdout",
     "output_type": "stream",
     "text": [
      "45 42 56 54\n",
      "16.278820596099706\n"
     ]
    }
   ],
   "source": [
    "#Distance\n",
    "import math\n",
    "x1,y1,x2,y2=map(int,input().split())\n",
    "\n",
    "d=pow((x1-x2),2)+pow((y1-y2),2)\n",
    "dis=math.sqrt(d)\n",
    "print(dis)"
   ]
  },
  {
   "cell_type": "code",
   "execution_count": 41,
   "id": "3b6cba94",
   "metadata": {},
   "outputs": [
    {
     "name": "stdout",
     "output_type": "stream",
     "text": [
      "105 120 135 150 165 180 195 "
     ]
    }
   ],
   "source": [
    "for i in range(100,200):\n",
    "    if(i%3==0 and i%5==0):\n",
    "        print(i,end=\" \")"
   ]
  },
  {
   "cell_type": "code",
   "execution_count": null,
   "id": "0dc96115",
   "metadata": {},
   "outputs": [],
   "source": []
  },
  {
   "cell_type": "code",
   "execution_count": 4,
   "id": "c19013f4",
   "metadata": {},
   "outputs": [
    {
     "name": "stdout",
     "output_type": "stream",
     "text": [
      "\n"
     ]
    },
    {
     "ename": "ValueError",
     "evalue": "invalid literal for int() with base 10: ''",
     "output_type": "error",
     "traceback": [
      "\u001b[1;31m---------------------------------------------------------------------------\u001b[0m",
      "\u001b[1;31mValueError\u001b[0m                                Traceback (most recent call last)",
      "\u001b[1;32m<ipython-input-4-ed70e3c439d0>\u001b[0m in \u001b[0;36m<module>\u001b[1;34m\u001b[0m\n\u001b[1;32m----> 1\u001b[1;33m \u001b[0mrows\u001b[0m \u001b[1;33m=\u001b[0m \u001b[0mint\u001b[0m\u001b[1;33m(\u001b[0m\u001b[0minput\u001b[0m\u001b[1;33m(\u001b[0m\u001b[1;33m)\u001b[0m\u001b[1;33m)\u001b[0m\u001b[1;33m\u001b[0m\u001b[1;33m\u001b[0m\u001b[0m\n\u001b[0m\u001b[0;32m      2\u001b[0m \u001b[0mprint\u001b[0m\u001b[1;33m(\u001b[0m\u001b[0mrows\u001b[0m\u001b[1;33m)\u001b[0m\u001b[1;33m\u001b[0m\u001b[1;33m\u001b[0m\u001b[0m\n",
      "\u001b[1;31mValueError\u001b[0m: invalid literal for int() with base 10: ''"
     ]
    }
   ],
   "source": [
    "rows = int(input())\n",
    "print(rows)"
   ]
  },
  {
   "cell_type": "code",
   "execution_count": null,
   "id": "c2bc0e10",
   "metadata": {},
   "outputs": [],
   "source": []
  }
 ],
 "metadata": {
  "kernelspec": {
   "display_name": "Python 3",
   "language": "python",
   "name": "python3"
  },
  "language_info": {
   "codemirror_mode": {
    "name": "ipython",
    "version": 3
   },
   "file_extension": ".py",
   "mimetype": "text/x-python",
   "name": "python",
   "nbconvert_exporter": "python",
   "pygments_lexer": "ipython3",
   "version": "3.8.8"
  }
 },
 "nbformat": 4,
 "nbformat_minor": 5
}
