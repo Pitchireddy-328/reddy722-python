{
 "cells": [
  {
   "cell_type": "code",
   "execution_count": 2,
   "id": "71a5e693",
   "metadata": {},
   "outputs": [
    {
     "name": "stdout",
     "output_type": "stream",
     "text": [
      "hello\n",
      "hello\n",
      "hello\n",
      "hello\n",
      "hello\n",
      "hai\n",
      "hai\n",
      "hai\n",
      "hai\n",
      "hai\n"
     ]
    }
   ],
   "source": [
    "class hello():\n",
    "    def run(self):\n",
    "        for i in range(5):\n",
    "            print(\"hello\")\n",
    "        \n",
    "class hai(Thread):\n",
    "    def run(self):\n",
    "        for j in range(5):\n",
    "            print(\"hai\")\n",
    "            \n",
    "t1=hello()\n",
    "t2=hai()\n",
    "\n",
    "t1.run()\n",
    "t2.run()"
   ]
  },
  {
   "cell_type": "code",
   "execution_count": 3,
   "id": "81ef2f1a",
   "metadata": {},
   "outputs": [
    {
     "name": "stdout",
     "output_type": "stream",
     "text": [
      "hello\n",
      "hello\n",
      "hello\n",
      "hello\n",
      "hello\n",
      "hai\n",
      "hai\n",
      "hai\n",
      "hai\n",
      "hai\n"
     ]
    }
   ],
   "source": [
    "from time import sleep\n",
    "from threading import *\n",
    "\n",
    "class hello(Thread):\n",
    "    def run(self):\n",
    "        for i in range(5):\n",
    "            print(\"hello\")\n",
    "            sleep(1)\n",
    "        \n",
    "class hai(Thread):\n",
    "    def run(self):\n",
    "        for j in range(5):\n",
    "            print(\"hai\")\n",
    "            sleep(1)\n",
    "            \n",
    "t1=hello()\n",
    "t2=hai()\n",
    "\n",
    "t1.run()\n",
    "t2.run()"
   ]
  },
  {
   "cell_type": "code",
   "execution_count": 6,
   "id": "56a17c1f",
   "metadata": {},
   "outputs": [
    {
     "name": "stdout",
     "output_type": "stream",
     "text": [
      "hello\n",
      "hai\n",
      "hellohai\n",
      "\n",
      "hellohai\n",
      "\n",
      "hellohai\n",
      "\n",
      "hellohai\n",
      "\n"
     ]
    }
   ],
   "source": [
    "from time import sleep\n",
    "from threading import *\n",
    "\n",
    "class hello(Thread):\n",
    "    def run(self):\n",
    "        for i in range(5):\n",
    "            print(\"hello\")\n",
    "            sleep(1)\n",
    "        \n",
    "class hai(Thread):\n",
    "    def run(self):\n",
    "        for j in range(5):\n",
    "            print(\"hai\")\n",
    "            sleep(1)\n",
    "            \n",
    "t1=hello()\n",
    "t2=hai()\n",
    "\n",
    "t1.start()\n",
    "t2.start()"
   ]
  },
  {
   "cell_type": "code",
   "execution_count": 16,
   "id": "263744dc",
   "metadata": {},
   "outputs": [
    {
     "name": "stdout",
     "output_type": "stream",
     "text": [
      "hello hai bye\n",
      " \n",
      "hello hai  \n",
      "hello hai  \n",
      "hello hai  \n",
      "hello hai  \n"
     ]
    }
   ],
   "source": [
    "from time import sleep\n",
    "from threading import *\n",
    "\n",
    "class hello(Thread):\n",
    "    def run(self):\n",
    "        for i in range(5):\n",
    "            print(\"hello\",end=\" \")\n",
    "            sleep(1)\n",
    "            print(\" \")\n",
    "        \n",
    "class hai(Thread):\n",
    "    def run(self):\n",
    "        for j in range(5):\n",
    "            print(\"hai\",end=\" \")\n",
    "            sleep(1)\n",
    "            \n",
    "t1=hello()\n",
    "t2=hai()\n",
    "\n",
    "t1.start()\n",
    "sleep(0.2)\n",
    "t2.start()\n",
    "\n",
    "print(\"bye\")"
   ]
  },
  {
   "cell_type": "code",
   "execution_count": 14,
   "id": "40c4319b",
   "metadata": {},
   "outputs": [
    {
     "name": "stdout",
     "output_type": "stream",
     "text": [
      "hello hai  \n",
      "hello hai  \n",
      "hello hai  \n",
      "hello hai  \n",
      "hello hai  \n",
      "bye\n"
     ]
    }
   ],
   "source": [
    "from time import sleep\n",
    "from threading import *\n",
    "\n",
    "class hello(Thread):\n",
    "    def run(self):\n",
    "        for i in range(5):\n",
    "            print(\"hello\",end=\" \")\n",
    "            sleep(1)\n",
    "            print(\" \")\n",
    "        \n",
    "class hai(Thread):\n",
    "    def run(self):\n",
    "        for j in range(5):\n",
    "            print(\"hai\",end=\" \")\n",
    "            sleep(1)\n",
    "            \n",
    "t1=hello()\n",
    "t2=hai()\n",
    "\n",
    "t1.start()\n",
    "sleep(0.2)\n",
    "t2.start()\n",
    "\n",
    "t1.join()\n",
    "t2.join()\n",
    "print(\"bye\")"
   ]
  },
  {
   "cell_type": "code",
   "execution_count": null,
   "id": "bd315972",
   "metadata": {},
   "outputs": [],
   "source": []
  },
  {
   "cell_type": "code",
   "execution_count": null,
   "id": "c7349617",
   "metadata": {},
   "outputs": [],
   "source": [
    "\n"
   ]
  },
  {
   "cell_type": "code",
   "execution_count": null,
   "id": "ec679b70",
   "metadata": {},
   "outputs": [],
   "source": []
  }
 ],
 "metadata": {
  "kernelspec": {
   "display_name": "Python 3",
   "language": "python",
   "name": "python3"
  },
  "language_info": {
   "codemirror_mode": {
    "name": "ipython",
    "version": 3
   },
   "file_extension": ".py",
   "mimetype": "text/x-python",
   "name": "python",
   "nbconvert_exporter": "python",
   "pygments_lexer": "ipython3",
   "version": "3.8.8"
  }
 },
 "nbformat": 4,
 "nbformat_minor": 5
}
