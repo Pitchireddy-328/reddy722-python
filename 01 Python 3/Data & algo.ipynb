{
 "cells": [
  {
   "cell_type": "code",
   "execution_count": 24,
   "id": "6f25d3a6",
   "metadata": {},
   "outputs": [
    {
     "name": "stdout",
     "output_type": "stream",
     "text": [
      "enter N:4\n",
      " enter arr54\n",
      " enter arr652\n",
      " enter arr1024\n",
      " enter arr75\n",
      "array : [54, 652, 1024, 75]\n",
      "max 1024\n",
      "min 54\n"
     ]
    }
   ],
   "source": [
    "arr=[]\n",
    "num=int(input(\"enter N:\"))\n",
    "for i in range(num):\n",
    "    n=int(input(\" enter arr\"))\n",
    "    arr.append(n)\n",
    "print(\"array :\",arr)\n",
    "print(\"max\",max(arr))\n",
    "print(\"min\",min(arr))"
   ]
  },
  {
   "cell_type": "markdown",
   "id": "fc1ff61e",
   "metadata": {},
   "source": [
    "# Reverse sorting"
   ]
  },
  {
   "cell_type": "code",
   "execution_count": null,
   "id": "ee49f557",
   "metadata": {},
   "outputs": [],
   "source": [
    "def insectionsort(arr,n):\n",
    "    for i in range(n):\n",
    "        key=arr[i]\n",
    "        j=i\n",
    "        while(j>0 and arr[j-1]<key):\n",
    "            arr[j]=arr[j-1]\n",
    "            j=j-1\n",
    "        arr[j]=key\n",
    "    return arr\n",
    "\n",
    "arr=[]\n",
    "n=int(input(\"enter n:\"))\n",
    "    \n",
    "for i in range(n):\n",
    "    num=int(input(\"enter n:\"))\n",
    "    arr.append(num)\n",
    "print(\"array is:\",arr)\n",
    "insectionsort(arr,n)\n",
    "print(\"array is:\",arr)"
   ]
  },
  {
   "cell_type": "markdown",
   "id": "5ad082b6",
   "metadata": {},
   "source": [
    "# Sorting"
   ]
  },
  {
   "cell_type": "code",
   "execution_count": 24,
   "id": "f1282c89",
   "metadata": {},
   "outputs": [
    {
     "name": "stdout",
     "output_type": "stream",
     "text": [
      "enter n:2\n",
      "enter n:14\n",
      "enter n:10\n",
      "array is: [14, 10]\n",
      "array is: [10, 14]\n"
     ]
    }
   ],
   "source": [
    "#insection sort\n",
    "def insectionsort(arr,n):\n",
    "    for i in range(n):\n",
    "        key=arr[i]\n",
    "        j=i\n",
    "        while(j>0 and arr[j-1]>key):\n",
    "            arr[j]=arr[j-1]\n",
    "            j=j-1\n",
    "        arr[j]=key\n",
    "    return arr\n",
    "\n",
    "arr=[]\n",
    "n=int(input(\"enter n:\"))\n",
    "    \n",
    "for i in range(n):\n",
    "    num=int(input(\"enter n:\"))\n",
    "    arr.append(num)\n",
    "print(\"array is:\",arr)\n",
    "insectionsort(arr,n)\n",
    "print(\"array is:\",arr)"
   ]
  },
  {
   "cell_type": "code",
   "execution_count": null,
   "id": "699f12ee",
   "metadata": {},
   "outputs": [],
   "source": []
  },
  {
   "cell_type": "code",
   "execution_count": 11,
   "id": "66293b6e",
   "metadata": {},
   "outputs": [
    {
     "name": "stdout",
     "output_type": "stream",
     "text": [
      "enter n:2\n",
      "enter n:45\n",
      "enter n:12\n",
      "array is: [45, 12]\n",
      "sorted array is: [12, 45]\n"
     ]
    }
   ],
   "source": [
    "def selectionsort(ar,n):\n",
    "    for i in range(n-1):\n",
    "        imin=i\n",
    "        for j in range(i+1,n):\n",
    "            if(ar[j]<ar[imin]):\n",
    "                imin=j\n",
    "        t=ar[i]\n",
    "        ar[i]=ar[imin]\n",
    "        ar[imin]=t\n",
    "    return ar\n",
    "        \n",
    "def main():\n",
    "    arr=[]\n",
    "    n=int(input(\"enter n:\"))\n",
    "    \n",
    "    for i in range(n):\n",
    "        num=int(input(\"enter n:\"))\n",
    "        arr.append(num)\n",
    "    print(\"array is:\",arr)\n",
    "    \n",
    "    selectionsort(arr,n)\n",
    "    print(\"sorted array is:\",arr)\n",
    "if __name__==\"__main__\":\n",
    "    main()"
   ]
  },
  {
   "cell_type": "code",
   "execution_count": 12,
   "id": "ec0514bb",
   "metadata": {},
   "outputs": [
    {
     "name": "stdout",
     "output_type": "stream",
     "text": [
      "enter n:3\n",
      "enter n:3\n",
      "enter n:1\n",
      "enter n:2\n",
      "array is: [3, 1, 2]\n",
      "sorted array is: [1, 2, 3]\n"
     ]
    }
   ],
   "source": [
    "def selectionsort(ar,n):\n",
    "    for i in range(n-1):\n",
    "        imin=i\n",
    "        for j in range(i+1,n):\n",
    "            if(ar[j]<ar[imin]):\n",
    "                imin=j\n",
    "        ar[imin],ar[i]=ar[i],ar[imin]\n",
    "    return ar\n",
    "        \n",
    "def main():\n",
    "    arr=[]\n",
    "    n=int(input(\"enter n:\"))\n",
    "    \n",
    "    for i in range(n):\n",
    "        num=int(input(\"enter n:\"))\n",
    "        arr.append(num)\n",
    "    print(\"array is:\",arr)\n",
    "    \n",
    "    selectionsort(arr,n)\n",
    "    print(\"sorted array is:\",arr)\n",
    "if __name__==\"__main__\":\n",
    "    main()"
   ]
  },
  {
   "cell_type": "code",
   "execution_count": 14,
   "id": "d33dae7a",
   "metadata": {},
   "outputs": [
    {
     "name": "stdout",
     "output_type": "stream",
     "text": [
      "enter n:4\n",
      "enter n:4\n",
      "enter n:2\n",
      "enter n:1\n",
      "enter n:3\n",
      "array is: [4, 2, 1, 3]\n",
      "array is: [1, 2, 3, 4]\n"
     ]
    }
   ],
   "source": [
    "#bubble sort\n",
    "def bubblesort(arr,n):\n",
    "    for i in range(n-1):\n",
    "        for j in range(n-i-1):\n",
    "            if(arr[j]>arr[j+1]):\n",
    "                arr[j],arr[j+1]=arr[j+1],arr[j]\n",
    "    return arr\n",
    "\n",
    "arr=[]\n",
    "n=int(input(\"enter n:\"))\n",
    "    \n",
    "for i in range(n):\n",
    "    num=int(input(\"enter n:\"))\n",
    "    arr.append(num)\n",
    "print(\"array is:\",arr)\n",
    "bubblesort(arr,n)\n",
    "print(\"array is:\",arr)"
   ]
  },
  {
   "cell_type": "code",
   "execution_count": 2,
   "id": "df515697",
   "metadata": {},
   "outputs": [
    {
     "name": "stdout",
     "output_type": "stream",
     "text": [
      "enter n:4\n",
      "enter n:12\n",
      "enter n:45\n",
      "enter n:1\n",
      "enter n:54\n",
      "array is: [12, 45, 1, 54]\n"
     ]
    },
    {
     "ename": "IndexError",
     "evalue": "list index out of range",
     "output_type": "error",
     "traceback": [
      "\u001b[1;31m---------------------------------------------------------------------------\u001b[0m",
      "\u001b[1;31mIndexError\u001b[0m                                Traceback (most recent call last)",
      "\u001b[1;32m<ipython-input-2-929c490df91b>\u001b[0m in \u001b[0;36m<module>\u001b[1;34m\u001b[0m\n\u001b[0;32m     25\u001b[0m     \u001b[0marr\u001b[0m\u001b[1;33m.\u001b[0m\u001b[0mappend\u001b[0m\u001b[1;33m(\u001b[0m\u001b[0mnum\u001b[0m\u001b[1;33m)\u001b[0m\u001b[1;33m\u001b[0m\u001b[1;33m\u001b[0m\u001b[0m\n\u001b[0;32m     26\u001b[0m \u001b[0mprint\u001b[0m\u001b[1;33m(\u001b[0m\u001b[1;34m\"array is:\"\u001b[0m\u001b[1;33m,\u001b[0m\u001b[0marr\u001b[0m\u001b[1;33m)\u001b[0m\u001b[1;33m\u001b[0m\u001b[1;33m\u001b[0m\u001b[0m\n\u001b[1;32m---> 27\u001b[1;33m \u001b[0mquicksort\u001b[0m\u001b[1;33m(\u001b[0m\u001b[0marr\u001b[0m\u001b[1;33m,\u001b[0m\u001b[1;36m0\u001b[0m\u001b[1;33m,\u001b[0m\u001b[0mlen\u001b[0m\u001b[1;33m(\u001b[0m\u001b[0marr\u001b[0m\u001b[1;33m)\u001b[0m\u001b[1;33m)\u001b[0m\u001b[1;33m\u001b[0m\u001b[1;33m\u001b[0m\u001b[0m\n\u001b[0m\u001b[0;32m     28\u001b[0m \u001b[0mprint\u001b[0m\u001b[1;33m(\u001b[0m\u001b[1;34m\"array is:\"\u001b[0m\u001b[1;33m,\u001b[0m\u001b[0marr\u001b[0m\u001b[1;33m)\u001b[0m\u001b[1;33m\u001b[0m\u001b[1;33m\u001b[0m\u001b[0m\n",
      "\u001b[1;32m<ipython-input-2-929c490df91b>\u001b[0m in \u001b[0;36mquicksort\u001b[1;34m(arr, start, end)\u001b[0m\n\u001b[0;32m     14\u001b[0m \u001b[1;32mdef\u001b[0m \u001b[0mquicksort\u001b[0m\u001b[1;33m(\u001b[0m\u001b[0marr\u001b[0m\u001b[1;33m,\u001b[0m\u001b[0mstart\u001b[0m\u001b[1;33m,\u001b[0m\u001b[0mend\u001b[0m\u001b[1;33m)\u001b[0m\u001b[1;33m:\u001b[0m\u001b[1;33m\u001b[0m\u001b[1;33m\u001b[0m\u001b[0m\n\u001b[0;32m     15\u001b[0m     \u001b[1;32mif\u001b[0m\u001b[1;33m(\u001b[0m\u001b[0mstart\u001b[0m\u001b[1;33m<\u001b[0m\u001b[0mend\u001b[0m\u001b[1;33m)\u001b[0m\u001b[1;33m:\u001b[0m\u001b[1;33m\u001b[0m\u001b[1;33m\u001b[0m\u001b[0m\n\u001b[1;32m---> 16\u001b[1;33m         \u001b[0mindex\u001b[0m\u001b[1;33m=\u001b[0m\u001b[0mpartition\u001b[0m\u001b[1;33m(\u001b[0m\u001b[0marr\u001b[0m\u001b[1;33m,\u001b[0m\u001b[0mstart\u001b[0m\u001b[1;33m,\u001b[0m\u001b[0mend\u001b[0m\u001b[1;33m)\u001b[0m\u001b[1;33m\u001b[0m\u001b[1;33m\u001b[0m\u001b[0m\n\u001b[0m\u001b[0;32m     17\u001b[0m         \u001b[0mquicksort\u001b[0m\u001b[1;33m(\u001b[0m\u001b[0marr\u001b[0m\u001b[1;33m,\u001b[0m\u001b[0mstart\u001b[0m\u001b[1;33m,\u001b[0m\u001b[0mindex\u001b[0m\u001b[1;33m-\u001b[0m\u001b[1;36m1\u001b[0m\u001b[1;33m)\u001b[0m\u001b[1;33m\u001b[0m\u001b[1;33m\u001b[0m\u001b[0m\n\u001b[0;32m     18\u001b[0m         \u001b[0mquicksort\u001b[0m\u001b[1;33m(\u001b[0m\u001b[0marr\u001b[0m\u001b[1;33m,\u001b[0m\u001b[0mindex\u001b[0m\u001b[1;33m+\u001b[0m\u001b[1;36m1\u001b[0m\u001b[1;33m,\u001b[0m\u001b[0mend\u001b[0m\u001b[1;33m)\u001b[0m\u001b[1;33m\u001b[0m\u001b[1;33m\u001b[0m\u001b[0m\n",
      "\u001b[1;32m<ipython-input-2-929c490df91b>\u001b[0m in \u001b[0;36mpartition\u001b[1;34m(arr, start, end)\u001b[0m\n\u001b[0;32m      2\u001b[0m \u001b[1;33m\u001b[0m\u001b[0m\n\u001b[0;32m      3\u001b[0m \u001b[1;32mdef\u001b[0m \u001b[0mpartition\u001b[0m\u001b[1;33m(\u001b[0m\u001b[0marr\u001b[0m\u001b[1;33m,\u001b[0m\u001b[0mstart\u001b[0m\u001b[1;33m,\u001b[0m\u001b[0mend\u001b[0m\u001b[1;33m)\u001b[0m\u001b[1;33m:\u001b[0m\u001b[1;33m\u001b[0m\u001b[1;33m\u001b[0m\u001b[0m\n\u001b[1;32m----> 4\u001b[1;33m     \u001b[0mpivot\u001b[0m\u001b[1;33m=\u001b[0m\u001b[0marr\u001b[0m\u001b[1;33m[\u001b[0m\u001b[0mend\u001b[0m\u001b[1;33m]\u001b[0m\u001b[1;33m\u001b[0m\u001b[1;33m\u001b[0m\u001b[0m\n\u001b[0m\u001b[0;32m      5\u001b[0m     \u001b[0mpindex\u001b[0m\u001b[1;33m=\u001b[0m\u001b[0mstart\u001b[0m\u001b[1;33m-\u001b[0m\u001b[1;36m1\u001b[0m\u001b[1;33m\u001b[0m\u001b[1;33m\u001b[0m\u001b[0m\n\u001b[0;32m      6\u001b[0m     \u001b[1;32mfor\u001b[0m \u001b[0mi\u001b[0m \u001b[1;32min\u001b[0m \u001b[0mrange\u001b[0m\u001b[1;33m(\u001b[0m\u001b[0mstart\u001b[0m\u001b[1;33m,\u001b[0m\u001b[0mend\u001b[0m\u001b[1;33m)\u001b[0m\u001b[1;33m:\u001b[0m\u001b[1;33m\u001b[0m\u001b[1;33m\u001b[0m\u001b[0m\n",
      "\u001b[1;31mIndexError\u001b[0m: list index out of range"
     ]
    }
   ],
   "source": [
    "#quicksort\n",
    "\n",
    "def partition(arr,start,end):\n",
    "    pivot=arr[end]\n",
    "    pindex=start-1\n",
    "    for i in range(start,end):\n",
    "        if(arr[i]<pivot):\n",
    "            arr[i],arr[pindex]=arr[pindex],arr[i]\n",
    "            pindex=pindex+1\n",
    "            \n",
    "    arr[pindex+1],arr[end]=arr[end],arr[pindex+1]\n",
    "    return pindex+1\n",
    "\n",
    "def quicksort(arr,start,end):\n",
    "    if(start<end):\n",
    "        index=partition(arr,start,end)\n",
    "        quicksort(arr,start,index-1)\n",
    "        quicksort(arr,index+1,end)\n",
    "    return arr\n",
    "\n",
    "arr=[]\n",
    "n=int(input(\"enter n:\")) \n",
    "for i in range(n):\n",
    "    num=int(input(\"enter n:\"))\n",
    "    arr.append(num)\n",
    "print(\"array is:\",arr)\n",
    "quicksort(arr,0,len(arr))\n",
    "print(\"array is:\",arr)"
   ]
  },
  {
   "cell_type": "code",
   "execution_count": null,
   "id": "3dd485c1",
   "metadata": {},
   "outputs": [],
   "source": []
  },
  {
   "cell_type": "code",
   "execution_count": 53,
   "id": "d5eeaff9",
   "metadata": {},
   "outputs": [
    {
     "name": "stdout",
     "output_type": "stream",
     "text": [
      "enter n:3\n",
      "enter n:4\n",
      "enter n:5\n",
      "enter n:6\n",
      "array is: [4, 5, 6]\n",
      "enter x:2\n",
      "Not in array\n"
     ]
    }
   ],
   "source": [
    "###  Binary search\n",
    "def search(arr,n,x):\n",
    "    low=0\n",
    "    high=n-1\n",
    "    while(low<=high):\n",
    "        mid=(low+high)//2\n",
    "        \n",
    "        if(arr[mid]==x):\n",
    "            return mid\n",
    "        elif(x<arr[mid]):\n",
    "            high=mid-1\n",
    "        else:\n",
    "            low=mid+1\n",
    "    return -1\n",
    "\n",
    "arr=[]\n",
    "n=int(input(\"enter n:\")) \n",
    "for i in range(n):\n",
    "    num=int(input(\"enter n:\"))\n",
    "    arr.append(num)\n",
    "print(\"array is:\",arr)\n",
    "\n",
    "x=int(input(\"enter x:\"))\n",
    "index=search(arr,n,x)\n",
    "if(index!=-1):\n",
    "    print(x,\" is present in array\")\n",
    "else:\n",
    "    print(\"Not in array\")"
   ]
  },
  {
   "cell_type": "code",
   "execution_count": 55,
   "id": "c641dbe6",
   "metadata": {},
   "outputs": [
    {
     "name": "stdout",
     "output_type": "stream",
     "text": [
      "enter n:5\n",
      "enter n:1\n",
      "enter n:4\n",
      "enter n:4\n",
      "enter n:4\n",
      "enter n:2\n",
      "array is: [1, 4, 4, 4, 2]\n",
      "enter x:4\n",
      "1 3\n"
     ]
    }
   ],
   "source": [
    "def search(arr,n,x,search):\n",
    "    low=0\n",
    "    high=n-1\n",
    "    result=-1\n",
    "    while(low<=high):\n",
    "        mid=(low+high)//2\n",
    "        \n",
    "        if(arr[mid]==x):\n",
    "            result=mid\n",
    "            if(search):\n",
    "                high=mid-1\n",
    "            else:\n",
    "                low=mid+1\n",
    "        elif(x<arr[mid]):\n",
    "            high=mid-1\n",
    "        else:\n",
    "            low=mid+1\n",
    "    return result\n",
    "\n",
    "arr=[]\n",
    "n=int(input(\"enter n:\")) \n",
    "for i in range(n):\n",
    "    num=int(input(\"enter n:\"))\n",
    "    arr.append(num)\n",
    "print(\"array is:\",arr)\n",
    "\n",
    "x=int(input(\"enter x:\"))\n",
    "first=search(arr,n,x,True)\n",
    "last=search(arr,n,x,False)\n",
    "\n",
    "print(first,last)"
   ]
  },
  {
   "cell_type": "code",
   "execution_count": null,
   "id": "7020ba1d",
   "metadata": {},
   "outputs": [],
   "source": []
  },
  {
   "cell_type": "code",
   "execution_count": null,
   "id": "a6b85b62",
   "metadata": {},
   "outputs": [],
   "source": []
  },
  {
   "cell_type": "code",
   "execution_count": null,
   "id": "84512195",
   "metadata": {},
   "outputs": [],
   "source": []
  },
  {
   "cell_type": "code",
   "execution_count": null,
   "id": "bc3743ab",
   "metadata": {},
   "outputs": [],
   "source": []
  },
  {
   "cell_type": "code",
   "execution_count": null,
   "id": "2af30118",
   "metadata": {},
   "outputs": [],
   "source": []
  }
 ],
 "metadata": {
  "kernelspec": {
   "display_name": "Python 3",
   "language": "python",
   "name": "python3"
  },
  "language_info": {
   "codemirror_mode": {
    "name": "ipython",
    "version": 3
   },
   "file_extension": ".py",
   "mimetype": "text/x-python",
   "name": "python",
   "nbconvert_exporter": "python",
   "pygments_lexer": "ipython3",
   "version": "3.8.8"
  }
 },
 "nbformat": 4,
 "nbformat_minor": 5
}
