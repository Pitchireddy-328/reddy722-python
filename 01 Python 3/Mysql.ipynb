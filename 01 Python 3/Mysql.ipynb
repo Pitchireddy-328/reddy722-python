{
 "cells": [
  {
   "cell_type": "code",
   "execution_count": 8,
   "id": "bdca9ea0",
   "metadata": {},
   "outputs": [
    {
     "name": "stdout",
     "output_type": "stream",
     "text": [
      "('information_schema',)\n",
      "('mysql',)\n",
      "('performance_schema',)\n",
      "('placements',)\n",
      "('sakila',)\n",
      "('sys',)\n",
      "('world',)\n"
     ]
    }
   ],
   "source": [
    "import mysql.connector as sq\n",
    "db=sq.connect(host='localhost',user='root',password='9100',database=\"placements\")\n",
    "\n",
    "data=db.cursor()\n",
    "data.execute('show databases')\n",
    "for i in data:\n",
    "    print(i)\n",
    "data.execute('use placements')"
   ]
  },
  {
   "cell_type": "code",
   "execution_count": 18,
   "id": "d7809011",
   "metadata": {},
   "outputs": [
    {
     "name": "stdout",
     "output_type": "stream",
     "text": [
      "('jobs',)\n",
      "----- Data in table------\n",
      "('AB inbev', '12 lakhs', 'Rejected', 1)\n",
      "('TCS', '7 lakhs', 'Waiting', 2)\n",
      "('ZS', '12.5 Lakhs', 'Applied', 3)\n"
     ]
    }
   ],
   "source": [
    "import mysql.connector as sq\n",
    "db=sq.connect(host='localhost',user='root',password='9100',database=\"placements\")\n",
    "\n",
    "data=db.cursor()\n",
    "data.execute('show tables')\n",
    "for x in data:\n",
    "    print(x)\n",
    "\n",
    "print(\"----- Data in table------\")\n",
    "data.execute(\"select* from jobs\")\n",
    "for y in data:\n",
    "    print(y)"
   ]
  },
  {
   "cell_type": "code",
   "execution_count": 19,
   "id": "3d56eedc",
   "metadata": {},
   "outputs": [],
   "source": [
    "sql=\"insert into jobs(company,CTC,status) values(%s,%s,%s)\"\n",
    "val=(\"Hyperverg\",\"10 Lakhs\",\"appllied\")\n",
    "\n",
    "data.execute(sql,val)"
   ]
  },
  {
   "cell_type": "code",
   "execution_count": 20,
   "id": "583ed76a",
   "metadata": {},
   "outputs": [
    {
     "name": "stdout",
     "output_type": "stream",
     "text": [
      "('AB inbev', '12 lakhs', 'Rejected', 1)\n",
      "('TCS', '7 lakhs', 'Waiting', 2)\n",
      "('ZS', '12.5 Lakhs', 'Applied', 3)\n",
      "('Hyperverg', '10 Lakhs', 'appllied', 4)\n"
     ]
    }
   ],
   "source": [
    "data.execute(\"select*from jobs\")\n",
    "\n",
    "for i in data:\n",
    "\n",
    "    \\print(i)"
   ]
  },
  {
   "cell_type": "code",
   "execution_count": null,
   "id": "11a1bc15",
   "metadata": {},
   "outputs": [],
   "source": []
  }
 ],
 "metadata": {
  "kernelspec": {
   "display_name": "Python 3",
   "language": "python",
   "name": "python3"
  },
  "language_info": {
   "codemirror_mode": {
    "name": "ipython",
    "version": 3
   },
   "file_extension": ".py",
   "mimetype": "text/x-python",
   "name": "python",
   "nbconvert_exporter": "python",
   "pygments_lexer": "ipython3",
   "version": "3.8.8"
  }
 },
 "nbformat": 4,
 "nbformat_minor": 5
}
