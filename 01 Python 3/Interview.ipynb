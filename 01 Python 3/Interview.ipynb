{
 "cells": [
  {
   "cell_type": "markdown",
   "id": "7ee0183d",
   "metadata": {},
   "source": [
    "# 1 Average Number"
   ]
  },
  {
   "cell_type": "code",
   "execution_count": 60,
   "id": "262179fc",
   "metadata": {},
   "outputs": [
    {
     "name": "stdout",
     "output_type": "stream",
     "text": [
      "41.33\n"
     ]
    }
   ],
   "source": [
    "#1Wap avg of numbers in list\n",
    "a=[23,45,56]\n",
    "s=0\n",
    "for i in range(len(a)):\n",
    "    s=s+a[i]\n",
    "    \n",
    "avg=s/len(a)\n",
    "print(\"%.2f\"%avg)"
   ]
  },
  {
   "cell_type": "code",
   "execution_count": 22,
   "id": "aa55586a",
   "metadata": {},
   "outputs": [
    {
     "name": "stdout",
     "output_type": "stream",
     "text": [
      "enter n:3\n",
      "e:45\n",
      "e:23\n",
      "e:56\n",
      "41.33\n"
     ]
    }
   ],
   "source": [
    "n=int(input(\"enter n:\"))\n",
    "a=[]\n",
    "for i in range(n):\n",
    "    e=int(input(\"e:\"))\n",
    "    a.append(e)\n",
    "s=0\n",
    "for i in range(len(a)):\n",
    "    s=s+a[i]\n",
    "    \n",
    "avg=s/len(a)\n",
    "print(\"%.2f\"%avg)"
   ]
  },
  {
   "cell_type": "markdown",
   "id": "e9345b96",
   "metadata": {},
   "source": [
    "# 2 reverse a number"
   ]
  },
  {
   "cell_type": "code",
   "execution_count": 35,
   "id": "17691fdb",
   "metadata": {},
   "outputs": [
    {
     "name": "stdout",
     "output_type": "stream",
     "text": [
      "123\n",
      "321\n"
     ]
    }
   ],
   "source": [
    "n=int(input())\n",
    "rev=0\n",
    "while(n!=0):\n",
    "    b=n%10\n",
    "    rev=rev*10+b\n",
    "    n=n//10\n",
    "print(rev)"
   ]
  },
  {
   "cell_type": "markdown",
   "id": "a74aaf68",
   "metadata": {},
   "source": [
    "# 3 Sum of digits"
   ]
  },
  {
   "cell_type": "code",
   "execution_count": 40,
   "id": "7afdbffb",
   "metadata": {},
   "outputs": [
    {
     "name": "stdout",
     "output_type": "stream",
     "text": [
      "1234\n",
      "Sum is 10\n"
     ]
    }
   ],
   "source": [
    "n=int(input())\n",
    "sum=0\n",
    "while(n!=0):\n",
    "    b=n%10\n",
    "    sum=sum+b\n",
    "    n=n//10\n",
    "print(\"Sum is\",sum)"
   ]
  },
  {
   "cell_type": "markdown",
   "id": "c48c51e5",
   "metadata": {},
   "source": [
    "# 4 check Palindrone"
   ]
  },
  {
   "cell_type": "code",
   "execution_count": 43,
   "id": "fe9550db",
   "metadata": {},
   "outputs": [
    {
     "name": "stdout",
     "output_type": "stream",
     "text": [
      "123321\n",
      "123321 is palindrone\n"
     ]
    }
   ],
   "source": [
    "n=int(input())\n",
    "tem=n\n",
    "rev=0\n",
    "while(n!=0):\n",
    "    b=n%10\n",
    "    rev=rev*10+b\n",
    "    n=n//10\n",
    "    \n",
    "if(rev==tem):\n",
    "    print(tem,\"is palindrone\")\n",
    "else:\n",
    "    print(tem,\"is not palindrone\")"
   ]
  },
  {
   "cell_type": "markdown",
   "id": "eab64cfd",
   "metadata": {},
   "source": [
    "# 5 Count of digits"
   ]
  },
  {
   "cell_type": "code",
   "execution_count": 47,
   "id": "50b9f284",
   "metadata": {},
   "outputs": [
    {
     "name": "stdout",
     "output_type": "stream",
     "text": [
      "1234\n",
      "4\n"
     ]
    }
   ],
   "source": [
    "n=int(input())\n",
    "c=0\n",
    "while(n!=0):\n",
    "    c=c+1\n",
    "    n=n//10\n",
    "    \n",
    "print(c)"
   ]
  },
  {
   "cell_type": "markdown",
   "id": "13faa450",
   "metadata": {},
   "source": [
    "# 6 Print table"
   ]
  },
  {
   "cell_type": "code",
   "execution_count": 48,
   "id": "1614ba35",
   "metadata": {},
   "outputs": [
    {
     "name": "stdout",
     "output_type": "stream",
     "text": [
      "5\n",
      "5 * 1 = 5\n",
      "5 * 2 = 10\n",
      "5 * 3 = 15\n",
      "5 * 4 = 20\n",
      "5 * 5 = 25\n",
      "5 * 6 = 30\n",
      "5 * 7 = 35\n",
      "5 * 8 = 40\n",
      "5 * 9 = 45\n",
      "5 * 10 = 50\n"
     ]
    }
   ],
   "source": [
    "n=int(input())\n",
    "\n",
    "for i in range(1,11):\n",
    "    print(\"%d * %d = %d\"%(n,i,n*i))"
   ]
  },
  {
   "cell_type": "markdown",
   "id": "2729ce43",
   "metadata": {},
   "source": [
    "# 7 Check prime or not"
   ]
  },
  {
   "cell_type": "code",
   "execution_count": 50,
   "id": "6480b4c8",
   "metadata": {},
   "outputs": [
    {
     "name": "stdout",
     "output_type": "stream",
     "text": [
      "23\n",
      "23 is prime\n"
     ]
    }
   ],
   "source": [
    "n=int(input())\n",
    "\n",
    "for i in range(2,n):\n",
    "    if(n%i==0):\n",
    "        break\n",
    "if(i>n/2):\n",
    "    print(n,\"is prime\")\n",
    "else:\n",
    "    print(n,\" is not a prime\")"
   ]
  },
  {
   "cell_type": "code",
   "execution_count": 59,
   "id": "8ab3c111",
   "metadata": {},
   "outputs": [
    {
     "name": "stdout",
     "output_type": "stream",
     "text": [
      "23\n",
      "prime\n"
     ]
    }
   ],
   "source": [
    "n=int(input())\n",
    "k=0\n",
    "for i in range(2,n//2+1):\n",
    "    if(n%i==0):\n",
    "        k=k+1\n",
    "\n",
    "if(k<=0):\n",
    "    print(\"prime\")\n",
    "else:\n",
    "    print(\"not a prime\")"
   ]
  },
  {
   "cell_type": "markdown",
   "id": "013acde4",
   "metadata": {},
   "source": [
    "# 8 Check Armstrong"
   ]
  },
  {
   "cell_type": "code",
   "execution_count": 9,
   "id": "4343815d",
   "metadata": {},
   "outputs": [
    {
     "name": "stdout",
     "output_type": "stream",
     "text": [
      "407\n",
      "Armstrong\n"
     ]
    }
   ],
   "source": [
    "# 153, 370, 371, 407, 1634\n",
    "n=int(input())\n",
    "t=n\n",
    "a=0\n",
    "for i in range(n):\n",
    "    b=n%10\n",
    "    a=a+b*b*b\n",
    "    n=n//10\n",
    "if(a==t):\n",
    "    print(\"Armstrong\")\n",
    "else:\n",
    "    print(\"Not a Armstrong\")"
   ]
  },
  {
   "cell_type": "markdown",
   "id": "386a5bfd",
   "metadata": {},
   "source": [
    "# 9 Perfect Number"
   ]
  },
  {
   "cell_type": "code",
   "execution_count": 58,
   "id": "7febce25",
   "metadata": {},
   "outputs": [
    {
     "name": "stdout",
     "output_type": "stream",
     "text": [
      "28\n",
      "1 2 4 7 14 perfect\n"
     ]
    }
   ],
   "source": [
    "# 6 , 28 , 496,8128 are perfect \n",
    "\n",
    "n=int(input())\n",
    "su=0\n",
    "for i in range(1,n):\n",
    "    if(n%i==0):\n",
    "        su=su+i\n",
    "        print(i,end=\" \")\n",
    "        \n",
    "if(su==n):\n",
    "    print(\"perfect\")\n",
    "else:\n",
    "    print(\"not perfect\")"
   ]
  },
  {
   "cell_type": "markdown",
   "id": "e748ee90",
   "metadata": {},
   "source": [
    "# 10 Perfect square"
   ]
  },
  {
   "cell_type": "code",
   "execution_count": 12,
   "id": "978bca7f",
   "metadata": {},
   "outputs": [
    {
     "name": "stdout",
     "output_type": "stream",
     "text": [
      "25\n",
      "5 is Perfect Square of 25\n"
     ]
    }
   ],
   "source": [
    "# 1, 4, 9, 16, 25, 36, 49, etc..,\n",
    "import math\n",
    "n=int(input())\n",
    "t=n\n",
    "\n",
    "x=math.sqrt(n)\n",
    "r=x*x\n",
    "\n",
    "if(r==t):\n",
    "    print(int(x),\"is Perfect Square of\",int(r))\n",
    "else:\n",
    "    print(\"no\")"
   ]
  },
  {
   "cell_type": "code",
   "execution_count": 2,
   "id": "85eaf7bf",
   "metadata": {},
   "outputs": [
    {
     "name": "stdout",
     "output_type": "stream",
     "text": [
      "121\n",
      "Yes\n"
     ]
    }
   ],
   "source": [
    "import math\n",
    "\n",
    "def persq(x):\n",
    "    if(x>=0):\n",
    "        sr=math.sqrt(x)\n",
    "        return ((sr*sr)==float(x))\n",
    "    return False\n",
    "\n",
    "x=int(input())\n",
    "if(persq(x)):\n",
    "    print(\"Yes\")\n",
    "else:\n",
    "    print(\"no\")"
   ]
  },
  {
   "cell_type": "code",
   "execution_count": 2,
   "id": "7941adbb",
   "metadata": {},
   "outputs": [
    {
     "name": "stdout",
     "output_type": "stream",
     "text": [
      "yes\n"
     ]
    }
   ],
   "source": [
    "import math\n",
    "def persq(x):\n",
    "    if(math.ceil(math.sqrt(x))==math.floor(math.sqrt(x))):\n",
    "        print(\"yes\")\n",
    "    else:\n",
    "        print(\"no\")\n",
    "n=2500\n",
    "persq(n)"
   ]
  },
  {
   "cell_type": "code",
   "execution_count": 3,
   "id": "2e0bc983",
   "metadata": {},
   "outputs": [
    {
     "name": "stdout",
     "output_type": "stream",
     "text": [
      "46\n",
      "45\n"
     ]
    }
   ],
   "source": [
    "print(math.ceil(45.4))\n",
    "print(math.floor(45.4))"
   ]
  },
  {
   "cell_type": "markdown",
   "id": "2cf1042e",
   "metadata": {},
   "source": [
    "# Sum of Squares and Cubes"
   ]
  },
  {
   "cell_type": "code",
   "execution_count": 5,
   "id": "97625f88",
   "metadata": {},
   "outputs": [
    {
     "name": "stdout",
     "output_type": "stream",
     "text": [
      "10\n",
      "sum of 10 Squares is 385\n",
      "sum of 10 Squares is 3025\n"
     ]
    }
   ],
   "source": [
    "n=int(input())\n",
    "sq=0\n",
    "cu=0\n",
    "for i in range(1,n+1):\n",
    "    sq=sq+(i*i)\n",
    "\n",
    "for i in range(1,n+1):\n",
    "    cu=cu+(i*i*i)\n",
    "    \n",
    "print(\"sum of\",n,\"Squares is\",sq)\n",
    "print(\"sum of\",n,\"Squares is\",cu)"
   ]
  },
  {
   "cell_type": "code",
   "execution_count": null,
   "id": "9da98b32",
   "metadata": {},
   "outputs": [],
   "source": []
  },
  {
   "cell_type": "code",
   "execution_count": null,
   "id": "468ab61e",
   "metadata": {},
   "outputs": [],
   "source": []
  },
  {
   "cell_type": "markdown",
   "id": "d7bf7c2c",
   "metadata": {},
   "source": [
    "# Experinced"
   ]
  },
  {
   "cell_type": "markdown",
   "id": "910cb129",
   "metadata": {},
   "source": [
    "# 1 Strong Number"
   ]
  },
  {
   "cell_type": "code",
   "execution_count": 23,
   "id": "3e5da207",
   "metadata": {},
   "outputs": [
    {
     "name": "stdout",
     "output_type": "stream",
     "text": [
      "145\n",
      "strong number\n"
     ]
    }
   ],
   "source": [
    "# 1, 2, 145, \n",
    "sum1=0\n",
    "n=int(input())\n",
    "t=n\n",
    "while(n):\n",
    "    i=1\n",
    "    f=1\n",
    "    r=n%10\n",
    "    while(i<=r):\n",
    "        f=f*i\n",
    "        i=i+1\n",
    "    sum1=sum1+f\n",
    "    n=n//10\n",
    "if(sum1==t):\n",
    "    print(\"strong number\")\n",
    "else:\n",
    "    print(\"not Strong number\")"
   ]
  },
  {
   "cell_type": "markdown",
   "id": "5c324c5d",
   "metadata": {},
   "source": [
    "# 2 2nd largest in list"
   ]
  },
  {
   "cell_type": "code",
   "execution_count": 11,
   "id": "5538bcb9",
   "metadata": {},
   "outputs": [
    {
     "name": "stdout",
     "output_type": "stream",
     "text": [
      "No of elemnts:3\n",
      "45\n",
      "75\n",
      "65\n",
      "2nd largest is  65\n"
     ]
    }
   ],
   "source": [
    "a=[]\n",
    "n=int(input(\"No of elemnts:\"))\n",
    "for i in range(1,n+1):\n",
    "    e=int(input())\n",
    "    a.append(e)\n",
    "a.sort()\n",
    "print(\"2nd largest is \",a[n-2])"
   ]
  },
  {
   "cell_type": "markdown",
   "id": "2ff9fcbd",
   "metadata": {},
   "source": [
    "# 3 swap first and last in list"
   ]
  },
  {
   "cell_type": "code",
   "execution_count": 13,
   "id": "277e645c",
   "metadata": {},
   "outputs": [
    {
     "name": "stdout",
     "output_type": "stream",
     "text": [
      "No of elemnts:4\n",
      "21\n",
      "54\n",
      "54\n",
      "32\n",
      "new list :  [32, 54, 54, 21]\n"
     ]
    }
   ],
   "source": [
    "a=[]\n",
    "n=int(input(\"No of elemnts:\"))\n",
    "for i in range(1,n+1):\n",
    "    e=int(input())\n",
    "    a.append(e)\n",
    "t=a[0]\n",
    "a[0]=a[n-1]\n",
    "a[n-1]=t\n",
    "\n",
    "print(\"new list : \",a)"
   ]
  },
  {
   "cell_type": "code",
   "execution_count": 13,
   "id": "3f3b9628",
   "metadata": {},
   "outputs": [
    {
     "name": "stdout",
     "output_type": "stream",
     "text": [
      "No of elemnts:4\n",
      "12\n",
      "13\n",
      "14\n",
      "15\n",
      "new list :  [15, 13, 14, 12]\n"
     ]
    }
   ],
   "source": [
    "a=[]\n",
    "n=int(input(\"No of elemnts:\"))\n",
    "for i in range(1,n+1):\n",
    "    e=int(input())\n",
    "    a.append(e)\n",
    "a[0],a[n-1]=a[n-1],a[0]\n",
    "print(\"new list : \",a)"
   ]
  },
  {
   "cell_type": "markdown",
   "id": "5dd6ce82",
   "metadata": {},
   "source": [
    "# 4 string is palidrone"
   ]
  },
  {
   "cell_type": "code",
   "execution_count": 14,
   "id": "95454042",
   "metadata": {},
   "outputs": [
    {
     "name": "stdout",
     "output_type": "stream",
     "text": [
      "str1:radar\n",
      "radar is palindrone\n"
     ]
    }
   ],
   "source": [
    "s1=input(\"str1:\")\n",
    "s2=''\n",
    "for i in s1:\n",
    "    s2=i+s2\n",
    "    \n",
    "if(s1==s2):\n",
    "    print(s1,\"is palindrone\")\n",
    "else:\n",
    "    print(s1,\"is Not a palindrone\")"
   ]
  },
  {
   "cell_type": "markdown",
   "id": "88c682fe",
   "metadata": {},
   "source": [
    "# 5 count vowels"
   ]
  },
  {
   "cell_type": "code",
   "execution_count": 25,
   "id": "1fb1e614",
   "metadata": {},
   "outputs": [
    {
     "name": "stdout",
     "output_type": "stream",
     "text": [
      "s1:reddy_gari_abbayi\n",
      "vowels =  6\n"
     ]
    }
   ],
   "source": [
    "s1=input(\"s1:\")\n",
    "count=0\n",
    "\n",
    "for i in s1:\n",
    "    if(i in 'aeiou' or i in 'AEIOU'):   # if(i=='a' or i=='e' or i=='i' or i=='o' or i=='u')\n",
    "        count=count+1\n",
    "print(\"vowels = \",count)"
   ]
  },
  {
   "cell_type": "markdown",
   "id": "115a5a0d",
   "metadata": {},
   "source": [
    "# 6 common letters in 2 strings"
   ]
  },
  {
   "cell_type": "code",
   "execution_count": 16,
   "id": "b7442f05",
   "metadata": {},
   "outputs": [
    {
     "name": "stdout",
     "output_type": "stream",
     "text": [
      "s1:Pitchi Reddy\n",
      "s2:reddy_gari_abbayi\n",
      "d\n",
      "e\n",
      "y\n",
      "i\n"
     ]
    }
   ],
   "source": [
    "s1=input(\"s1:\")\n",
    "s2=input(\"s2:\")\n",
    "\n",
    "s=list(set(s1) & set(s2))\n",
    "\n",
    "for i in s:\n",
    "    print(i)"
   ]
  },
  {
   "cell_type": "markdown",
   "id": "a1f17a74",
   "metadata": {},
   "source": [
    "# 7 sorting and 2nd largest number"
   ]
  },
  {
   "cell_type": "code",
   "execution_count": 2,
   "id": "6d733f31",
   "metadata": {},
   "outputs": [
    {
     "name": "stdout",
     "output_type": "stream",
     "text": [
      "No of :5\n",
      "154\n",
      "214\n",
      "15\n",
      "135\n",
      "32\n",
      "[154, 214, 15, 135, 32]\n",
      " \n",
      "Sorted : [15, 32, 135, 154, 214]\n",
      "Max is  214  min is  15\n",
      "2nd largest : 154\n"
     ]
    }
   ],
   "source": [
    "def bubble(arr,n):\n",
    "    for i in range(n-1):\n",
    "        for j in range(n-i-1):\n",
    "            if(arr[j]>arr[j+1]):\n",
    "                arr[j],arr[j+1]=arr[j+1],arr[j]\n",
    "arr=[]\n",
    "n=int(input(\"No of :\"))\n",
    "for i in range(n):\n",
    "    e=int(input())\n",
    "    arr.append(e)\n",
    "    \n",
    "print(arr)\n",
    "\n",
    "print(\" \")\n",
    "bubble(arr,n)\n",
    "print(\"Sorted :\",arr)\n",
    "\n",
    "ma=arr[n-1]\n",
    "mi=arr[0]\n",
    "print(\"Max is \",ma,\" min is \",mi)\n",
    "\n",
    "sl=arr[n-2]\n",
    "print(\"2nd largest :\",sl)"
   ]
  },
  {
   "cell_type": "code",
   "execution_count": null,
   "id": "16a79daa",
   "metadata": {},
   "outputs": [],
   "source": []
  },
  {
   "cell_type": "code",
   "execution_count": 21,
   "id": "a7fbe5c5",
   "metadata": {},
   "outputs": [
    {
     "name": "stdout",
     "output_type": "stream",
     "text": [
      "No of :3\n",
      "4\n",
      "15\n",
      "1\n",
      "[4, 15, 1]\n",
      "sorted : [1, 4, 15]\n"
     ]
    }
   ],
   "source": [
    "def selection(arr,n):\n",
    "    for i in range(n-1):\n",
    "        imin=i\n",
    "        for j in range(i+1,n):\n",
    "            if(arr[j]<arr[imin]):\n",
    "                imin=j\n",
    "        arr[i],arr[imin]=arr[imin],arr[i]\n",
    "arr=[]\n",
    "n=int(input(\"No of :\"))\n",
    "for i in range(n):\n",
    "    e=int(input())\n",
    "    arr.append(e)\n",
    "    \n",
    "print(arr)\n",
    "selection(arr,n)\n",
    "print(\"sorted :\",arr)"
   ]
  },
  {
   "cell_type": "code",
   "execution_count": null,
   "id": "213add2b",
   "metadata": {},
   "outputs": [],
   "source": []
  },
  {
   "cell_type": "code",
   "execution_count": null,
   "id": "f64934f1",
   "metadata": {},
   "outputs": [],
   "source": []
  }
 ],
 "metadata": {
  "kernelspec": {
   "display_name": "Python 3",
   "language": "python",
   "name": "python3"
  },
  "language_info": {
   "codemirror_mode": {
    "name": "ipython",
    "version": 3
   },
   "file_extension": ".py",
   "mimetype": "text/x-python",
   "name": "python",
   "nbconvert_exporter": "python",
   "pygments_lexer": "ipython3",
   "version": "3.8.8"
  }
 },
 "nbformat": 4,
 "nbformat_minor": 5
}
